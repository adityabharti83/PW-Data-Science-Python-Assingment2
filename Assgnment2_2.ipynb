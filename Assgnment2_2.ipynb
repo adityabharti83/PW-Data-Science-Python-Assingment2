{
  "nbformat": 4,
  "nbformat_minor": 0,
  "metadata": {
    "colab": {
      "provenance": [],
      "toc_visible": true
    },
    "kernelspec": {
      "name": "python3",
      "display_name": "Python 3"
    },
    "language_info": {
      "name": "python"
    }
  },
  "cells": [
    {
      "cell_type": "markdown",
      "source": [
        "Lists"
      ],
      "metadata": {
        "id": "-g-I3jrO_qkx"
      }
    },
    {
      "cell_type": "code",
      "execution_count": 14,
      "metadata": {
        "colab": {
          "base_uri": "https://localhost:8080/"
        },
        "id": "3QK83Ywf4FYX",
        "outputId": "10a51c62-2201-4811-b2fb-4d0c28d1c21d"
      },
      "outputs": [
        {
          "output_type": "stream",
          "name": "stdout",
          "text": [
            "The List :  [1, 2, 3, 4, 5, 6, 7, 8, 9, 10]\n"
          ]
        }
      ],
      "source": [
        "#take the list\n",
        "h1 = [ 1,2,3,4,5,6,7,8,9,10]\n",
        "\n",
        "#print the list\n",
        "print(\"The List : \",h1)"
      ]
    },
    {
      "cell_type": "code",
      "source": [
        "#take the list\n",
        "h2 = [ 1,2,3,4,5,6,7,8,9,10]\n",
        "\n",
        "#intiatialize a for length of the list\n",
        "count  = 0\n",
        "\n",
        "#start a loop to count the length of list\n",
        "for _ in h2:\n",
        "  count = count + 1\n",
        "\n",
        "#print the length of list\n",
        "print(\"The length of list is :\",count)"
      ],
      "metadata": {
        "colab": {
          "base_uri": "https://localhost:8080/"
        },
        "id": "wxVzFBUX5ajh",
        "outputId": "7190ec62-b679-461a-fd6d-d7af035968f9"
      },
      "execution_count": 15,
      "outputs": [
        {
          "output_type": "stream",
          "name": "stdout",
          "text": [
            "The length of list is : 10\n"
          ]
        }
      ]
    },
    {
      "cell_type": "code",
      "source": [
        "#take the list\n",
        "h3 = [ 1,2,3,4,5,6,7,8,9,10]\n",
        "\n",
        "#add the new element\n",
        "h3.append(11)\n",
        "\n",
        "#print the list\n",
        "print(\"the upadated list :\",h3)"
      ],
      "metadata": {
        "colab": {
          "base_uri": "https://localhost:8080/"
        },
        "id": "lwqm1-AD5dkb",
        "outputId": "87723d75-0b96-40ca-fe54-4a48dcedb926"
      },
      "execution_count": 19,
      "outputs": [
        {
          "output_type": "stream",
          "name": "stdout",
          "text": [
            "the upadated list : [1, 2, 3, 4, 5, 6, 7, 8, 9, 10, 11]\n"
          ]
        }
      ]
    },
    {
      "cell_type": "code",
      "source": [
        "#take the list\n",
        "h4 = [ 1,2,3,4,6,7,8,9,10]\n",
        "\n",
        "#insert the element\n",
        "h4.insert(4,5)\n",
        "\n",
        "#print the list\n",
        "print(\"the updated list : \",h4)"
      ],
      "metadata": {
        "colab": {
          "base_uri": "https://localhost:8080/"
        },
        "id": "4yxfYF_n84rv",
        "outputId": "873544d3-212f-4c94-f429-00261eca0b5b"
      },
      "execution_count": 21,
      "outputs": [
        {
          "output_type": "stream",
          "name": "stdout",
          "text": [
            "the updated list :  [1, 2, 3, 4, 5, 6, 7, 8, 9, 10]\n"
          ]
        }
      ]
    },
    {
      "cell_type": "code",
      "source": [
        "#take a list\n",
        "h5 = [1,2,3,4,5]\n",
        "\n",
        "#remove the element by it's value\n",
        "h5.remove(3)\n",
        "\n",
        "#print the updated list\n",
        "print(\"the updated list : \",h5)"
      ],
      "metadata": {
        "colab": {
          "base_uri": "https://localhost:8080/"
        },
        "id": "EBXq-JD89Ze0",
        "outputId": "5d46a095-9337-4a18-a96c-4ebbf93ba5e0"
      },
      "execution_count": 33,
      "outputs": [
        {
          "output_type": "stream",
          "name": "stdout",
          "text": [
            "the updated list :  [1, 2, 4, 5]\n"
          ]
        }
      ]
    },
    {
      "cell_type": "code",
      "source": [
        "#take a list\n",
        "h6 = [\"Hello\",\"Hi\",\"Hey\",\"Welcome\",\"Good\",\"early\"]\n",
        "\n",
        "#remove the element by it's index\n",
        "h6.pop(3)\n",
        "\n",
        "#print the updated list\n",
        "print(\"the updated list : \",h6)"
      ],
      "metadata": {
        "colab": {
          "base_uri": "https://localhost:8080/"
        },
        "id": "6a_RJs6o_pHj",
        "outputId": "7db04125-7cbc-4a50-d8b9-257082a9f55f"
      },
      "execution_count": 35,
      "outputs": [
        {
          "output_type": "stream",
          "name": "stdout",
          "text": [
            "the updated list :  ['Hello', 'Hi', 'Hey', 'Good', 'early']\n"
          ]
        }
      ]
    },
    {
      "cell_type": "code",
      "source": [
        "#take a list\n",
        "h7 = [\"Hello\",\"Hi\",\"Hey\",\"Welcome\",\"Good\",\"early\"]\n",
        "\n",
        "#the element to check\n",
        "element_to_check = \"Hi\"\n",
        "\n",
        "#start a if-else statement to check if the element is in the list or not\n",
        "if element_to_check in h7 :\n",
        "  print(f\" '{element_to_check}' is in the list\")\n",
        "\n",
        "else:\n",
        "  print(f\" '{element_to_check}' is not in the list\")\n"
      ],
      "metadata": {
        "colab": {
          "base_uri": "https://localhost:8080/"
        },
        "id": "ekq_QpQ5Azed",
        "outputId": "5e2dbd87-8f04-430d-b7d7-103cba58a47c"
      },
      "execution_count": 38,
      "outputs": [
        {
          "output_type": "stream",
          "name": "stdout",
          "text": [
            " 'Hi' is in the list\n"
          ]
        }
      ]
    },
    {
      "cell_type": "code",
      "source": [
        "#take a list\n",
        "h8 = [\"Hello\",\"Hi\",\"Hey\",\"Welcome\",\"Good\",\"early\",\"Hi\",\"Down\",\"Up\"]\n",
        "\n",
        "#element to find\n",
        "element_to_find = \"Hi\"\n",
        "\n",
        "#print the index of element\n",
        "print(f\"The '{element_to_find}' is first occured in the list at index :\",h8.index(element_to_find))"
      ],
      "metadata": {
        "colab": {
          "base_uri": "https://localhost:8080/"
        },
        "id": "myu4UExWB65f",
        "outputId": "3f5fd06e-0c37-4e94-9652-3d0b2e510760"
      },
      "execution_count": 39,
      "outputs": [
        {
          "output_type": "stream",
          "name": "stdout",
          "text": [
            "The 'Hi' is first occured in the list at index : 1\n"
          ]
        }
      ]
    },
    {
      "cell_type": "code",
      "source": [
        "#take a list\n",
        "h9 = [\"Hello\",\"Hi\",\"Hey\",\"Welcome\",\"Good\",\"early\",\"Hi\",\"Down\",\"Up\"]\n",
        "\n",
        "occurences = \"Hi\"\n",
        "\n",
        "#print the index of element\n",
        "print(f\"The '{occurences}' is occured in the list :\",h9.count(occurences),\"Times\")\n",
        "\n",
        "\n"
      ],
      "metadata": {
        "colab": {
          "base_uri": "https://localhost:8080/"
        },
        "id": "c4NJmZV5Czwk",
        "outputId": "33e4c26e-358e-4b32-86e6-c9f9103333e6"
      },
      "execution_count": 41,
      "outputs": [
        {
          "output_type": "stream",
          "name": "stdout",
          "text": [
            "The 'Hi' is occured in the list : 2 Times\n"
          ]
        }
      ]
    },
    {
      "cell_type": "code",
      "source": [
        "#take a list\n",
        "h10 = [1,2,3,4,5,6,7,8,9]\n",
        "\n",
        "#reverse the list\n",
        "h10.reverse()\n",
        "\n",
        "#print the reversed list\n",
        "print(\"the reversed list :\",h10)"
      ],
      "metadata": {
        "colab": {
          "base_uri": "https://localhost:8080/"
        },
        "id": "LJS259aNENNd",
        "outputId": "ab61f821-db30-4cbd-e7be-a814e93dff0b"
      },
      "execution_count": 49,
      "outputs": [
        {
          "output_type": "stream",
          "name": "stdout",
          "text": [
            "the reversed list : [9, 8, 7, 6, 5, 4, 3, 2, 1]\n"
          ]
        }
      ]
    },
    {
      "cell_type": "code",
      "source": [
        "#take a list\n",
        "h11 = [23,1,45,67,100,3000,56,4,45,6,89,7]\n",
        "\n",
        "#sort the list\n",
        "h11.sort()\n",
        "\n",
        "#print the sorted list\n",
        "print(\"the ascending order list :\",h11)"
      ],
      "metadata": {
        "colab": {
          "base_uri": "https://localhost:8080/"
        },
        "id": "grsxNDFgFtHw",
        "outputId": "61b239c8-eb7c-4fee-c24a-f19b7dcd9910"
      },
      "execution_count": 59,
      "outputs": [
        {
          "output_type": "stream",
          "name": "stdout",
          "text": [
            "the ascending order list : [1, 4, 6, 7, 23, 45, 45, 56, 67, 89, 100, 3000]\n"
          ]
        }
      ]
    },
    {
      "cell_type": "code",
      "source": [
        "#take a list\n",
        "h11 = [23,1,45,67,100,3000,56,4,45,6,89,7]\n",
        "\n",
        "#sort the list\n",
        "h11.sort(reverse=True)\n",
        "\n",
        "#print the sorted list\n",
        "print(\"the descending order list :\",h11)"
      ],
      "metadata": {
        "colab": {
          "base_uri": "https://localhost:8080/"
        },
        "id": "CzSxUJzIIrz3",
        "outputId": "84648df0-9049-45f1-9496-bf36170b7827"
      },
      "execution_count": 60,
      "outputs": [
        {
          "output_type": "stream",
          "name": "stdout",
          "text": [
            "the descending order list : [3000, 100, 89, 67, 56, 45, 45, 23, 7, 6, 4, 1]\n"
          ]
        }
      ]
    },
    {
      "cell_type": "code",
      "source": [
        "#take a empty list\n",
        "even_numbers = []\n",
        "\n",
        "#apply range function to find the even numbers in the range of 1 to 20\n",
        "for i in range(1,21):\n",
        "  if i % 2 == 0:\n",
        "    even_numbers.append(i)\n",
        "\n",
        "#print the list of even numbers\n",
        "print(\"the list of even numbers from 1 to 20 :\",even_numbers)\n"
      ],
      "metadata": {
        "colab": {
          "base_uri": "https://localhost:8080/"
        },
        "id": "ZO_Z6ZINI1yY",
        "outputId": "f55b2f74-77bb-4cb9-bfa8-b8a393701716"
      },
      "execution_count": 62,
      "outputs": [
        {
          "output_type": "stream",
          "name": "stdout",
          "text": [
            "the list of even numbers from 1 to 20 : [2, 4, 6, 8, 10, 12, 14, 16, 18, 20]\n"
          ]
        }
      ]
    },
    {
      "cell_type": "code",
      "source": [
        "#take a empty list\n",
        "even_numbers = []\n",
        "\n",
        "#apply range function to find the odd numbers in the range of 1 to 20\n",
        "for i in range(1,20):\n",
        "  if i % 2 != 0:\n",
        "    even_numbers.append(i)\n",
        "\n",
        "#print the list of odd numbers\n",
        "print(\"the list of odd numbers from 1 to 20 :\",even_numbers)\n"
      ],
      "metadata": {
        "colab": {
          "base_uri": "https://localhost:8080/"
        },
        "id": "QYyWfHzJJVaN",
        "outputId": "33991675-06ea-48fa-f223-d66bb1adcb2b"
      },
      "execution_count": 65,
      "outputs": [
        {
          "output_type": "stream",
          "name": "stdout",
          "text": [
            "the list of odd numbers from 1 to 20 : [1, 3, 5, 7, 9, 11, 13, 15, 17, 19]\n"
          ]
        }
      ]
    },
    {
      "cell_type": "code",
      "source": [
        "#take a list\n",
        "h12 = [23,1,45,67,100,3000,56,4,45,6,89,7]\n",
        "\n",
        "#print the sum of elements inthe list\n",
        "print(\"the sum of all elements in the list :\",sum(h12))\n"
      ],
      "metadata": {
        "colab": {
          "base_uri": "https://localhost:8080/"
        },
        "id": "pyxUKtEYKQ8O",
        "outputId": "5dc22d6e-c89c-4d90-9379-f0bfe6e8c808"
      },
      "execution_count": 69,
      "outputs": [
        {
          "output_type": "stream",
          "name": "stdout",
          "text": [
            "the sum of all elements in the list : 3443\n"
          ]
        }
      ]
    },
    {
      "cell_type": "code",
      "source": [
        "#take a list\n",
        "h13 = [23,1,45,67,100,3000,56,4,45,6,89,7]\n",
        "\n",
        "#print the maximum value in the list\n",
        "print(\"the maximum value in the list :\",max(h13))\n"
      ],
      "metadata": {
        "colab": {
          "base_uri": "https://localhost:8080/"
        },
        "id": "lL3zUOB6LCSM",
        "outputId": "78fe943b-ffb3-4de4-c54e-57f9e564f6bb"
      },
      "execution_count": 72,
      "outputs": [
        {
          "output_type": "stream",
          "name": "stdout",
          "text": [
            "the maximum value in the list : 3000\n"
          ]
        }
      ]
    },
    {
      "cell_type": "code",
      "source": [
        "#take a list\n",
        "h14 = [23,1,45,67,100,3000,56,4,45,6,89,7]\n",
        "\n",
        "#print the minimum value in the list\n",
        "print(\"the minimum value in the list :\",min(h12))\n"
      ],
      "metadata": {
        "colab": {
          "base_uri": "https://localhost:8080/"
        },
        "id": "eaubE1IjLdDE",
        "outputId": "97be33e2-3fd7-4aed-aea6-7db2a0832c17"
      },
      "execution_count": 73,
      "outputs": [
        {
          "output_type": "stream",
          "name": "stdout",
          "text": [
            "the minimum value in the list : 1\n"
          ]
        }
      ]
    },
    {
      "cell_type": "code",
      "source": [
        "#take a empty list\n",
        "sq = []\n",
        "\n",
        "#use range function to make a list of squares in the range\n",
        "for i in range(1,11):\n",
        "  square = i**2\n",
        "  sq.append(square)\n",
        "\n",
        "#print the list of squares\n",
        "print(\"the list of squared from 1 to 10\",sq)\n"
      ],
      "metadata": {
        "colab": {
          "base_uri": "https://localhost:8080/"
        },
        "id": "SoX8k_rGLlxN",
        "outputId": "f7886c9a-796a-465e-da23-851c62132897"
      },
      "execution_count": 74,
      "outputs": [
        {
          "output_type": "stream",
          "name": "stdout",
          "text": [
            "the list of squared from 1 to 10 [1, 4, 9, 16, 25, 36, 49, 64, 81, 100]\n"
          ]
        }
      ]
    },
    {
      "cell_type": "code",
      "source": [
        "import random\n",
        "\n",
        "#take a empty list\n",
        "random_numbers = []\n",
        "\n",
        "#create a list of 10 random numbers between 1 and 100\n",
        "for _ in range(10):\n",
        "    random_number = random.randint(1, 100)\n",
        "    random_numbers.append(random_number)\n",
        "\n",
        "print(\"List of random numbers:\", random_numbers)\n"
      ],
      "metadata": {
        "colab": {
          "base_uri": "https://localhost:8080/"
        },
        "id": "ibevqZL5Nfvh",
        "outputId": "db83be26-4049-4985-d8f8-385b57a51c3c"
      },
      "execution_count": 78,
      "outputs": [
        {
          "output_type": "stream",
          "name": "stdout",
          "text": [
            "List of random numbers: [13, 100, 89, 60, 51, 25, 46, 65, 37, 40]\n"
          ]
        }
      ]
    },
    {
      "cell_type": "code",
      "source": [
        "#take a list\n",
        "h15 = [23,1,45,7,4,23,56,67,100,3000,56,4,1,45,6,89,1,7]\n",
        "\n",
        "#remove the duplicates from the list\n",
        "h16 = list(set(h15))\n",
        "\n",
        "#print the list\n",
        "print(\"the list after removal of duplicates : \",h16)"
      ],
      "metadata": {
        "colab": {
          "base_uri": "https://localhost:8080/"
        },
        "id": "s9Aax6mjN_UU",
        "outputId": "e9f80421-1f12-4b89-9155-b60d3497cf66"
      },
      "execution_count": 81,
      "outputs": [
        {
          "output_type": "stream",
          "name": "stdout",
          "text": [
            "the list after removal of duplicates :  [1, 67, 4, 100, 6, 7, 45, 3000, 23, 56, 89]\n"
          ]
        }
      ]
    },
    {
      "cell_type": "code",
      "source": [
        "#take the lists\n",
        "list1 = [1,2,3,4,5,6,7]\n",
        "list2 = [5,7,90,1,2,56,78]\n",
        "\n",
        "#find the common elements in the lists\n",
        "common_e = list(set(list1).intersection(set(list2)))\n",
        "\n",
        "#print the common elements\n",
        "print(\"the common elements in list1 and list2 are :\",common_e)"
      ],
      "metadata": {
        "colab": {
          "base_uri": "https://localhost:8080/"
        },
        "id": "njzqYU6wRfxW",
        "outputId": "ccaad008-c3ab-4c52-d4c6-95679d3cfdc9"
      },
      "execution_count": 82,
      "outputs": [
        {
          "output_type": "stream",
          "name": "stdout",
          "text": [
            "the common elements in list1 and list2 are : [1, 2, 5, 7]\n"
          ]
        }
      ]
    },
    {
      "cell_type": "code",
      "source": [
        "#take the lists\n",
        "list1 = [1,2,3,4,5,6,7]\n",
        "list2 = [5,7,90,1,2,56,78]\n",
        "\n",
        "#find the different elements in the lists\n",
        "differ_e = list(set(list1).difference(set(list2)))\n",
        "\n",
        "#print the different elements\n",
        "print(\"the different elements in list1 and list2 are :\",differ_e)"
      ],
      "metadata": {
        "colab": {
          "base_uri": "https://localhost:8080/"
        },
        "id": "UyhAADSqSbva",
        "outputId": "8682eddc-aa76-4bc8-d43f-fb59a73d30bc"
      },
      "execution_count": 83,
      "outputs": [
        {
          "output_type": "stream",
          "name": "stdout",
          "text": [
            "the common elements in list1 and list2 are : [3, 4, 6]\n"
          ]
        }
      ]
    },
    {
      "cell_type": "code",
      "source": [
        "#take the lists\n",
        "list1 = [1,2,3,4,5,6,7]\n",
        "list2 = [5,7,90,1,2,56,78]\n",
        "\n",
        "#merge the 2 lists\n",
        "m_list = list1 + list2\n",
        "\n",
        "#print the merged list\n",
        "print(\"the merged list : \",m_list)"
      ],
      "metadata": {
        "colab": {
          "base_uri": "https://localhost:8080/"
        },
        "id": "BpVK6TzPTBEN",
        "outputId": "20fc3608-b3ad-4fc5-bb4c-7a64e64345ee"
      },
      "execution_count": 84,
      "outputs": [
        {
          "output_type": "stream",
          "name": "stdout",
          "text": [
            "the merged list :  [1, 2, 3, 4, 5, 6, 7, 5, 7, 90, 1, 2, 56, 78]\n"
          ]
        }
      ]
    },
    {
      "cell_type": "code",
      "source": [
        "#take the list\n",
        "list1 = [1,2,3,4,5,6,7]\n",
        "\n",
        "for i in range(len(list1)):\n",
        "  list1[i] *= 2\n",
        "\n",
        "#print the multiplied list\n",
        "print(\"the list after multiplying by 2 : \",list1)"
      ],
      "metadata": {
        "colab": {
          "base_uri": "https://localhost:8080/"
        },
        "id": "d5n5dfh1UDP0",
        "outputId": "91fe4f79-4305-444f-8cf3-a03bed7bbb43"
      },
      "execution_count": 86,
      "outputs": [
        {
          "output_type": "stream",
          "name": "stdout",
          "text": [
            "the list after multiplying by 2 :  [2, 4, 6, 8, 10, 12, 14]\n"
          ]
        }
      ]
    },
    {
      "cell_type": "code",
      "source": [
        "#take the list\n",
        "list1 = [1,2,3,4,5,6,7]\n",
        "\n",
        "#take a empty list\n",
        "list_odd = []\n",
        "\n",
        "#create a for loop to filter out the even numbers\n",
        "for i in list1:\n",
        "  if i % 2 != 0:\n",
        "    list_odd.append(i)\n",
        "\n",
        "#print the list of odd numbers\n",
        "print(\"the list of even numbers : \",list_odd)\n"
      ],
      "metadata": {
        "colab": {
          "base_uri": "https://localhost:8080/"
        },
        "id": "iL1X78epUsO5",
        "outputId": "6db6112d-e739-4970-9a5c-39a60094c5c6"
      },
      "execution_count": 95,
      "outputs": [
        {
          "output_type": "stream",
          "name": "stdout",
          "text": [
            "the list of even numbers :  [1, 3, 5, 7]\n"
          ]
        }
      ]
    },
    {
      "cell_type": "code",
      "source": [
        "#Take String list of integers\n",
        "String_list = [\"1\",\"2\",\"3\",\"4\",\"5\",\"6\",\"7\"]\n",
        "\n",
        "#Take a empty list\n",
        "int_list = []\n",
        "\n",
        "#convert the strings into integers\n",
        "for i in String_list:\n",
        "  int_list.append(int(i))\n",
        "\n",
        "#print the integer list\n",
        "print(\"the integer list : \",int_list)"
      ],
      "metadata": {
        "colab": {
          "base_uri": "https://localhost:8080/"
        },
        "id": "djemV9egejWB",
        "outputId": "5254e24b-8db9-475e-9d32-ddf04e1789d7"
      },
      "execution_count": 4,
      "outputs": [
        {
          "output_type": "stream",
          "name": "stdout",
          "text": [
            "the integer list :  [1, 2, 3, 4, 5, 6, 7]\n"
          ]
        }
      ]
    },
    {
      "cell_type": "code",
      "source": [
        "#Take a list of integer\n",
        "int_list= [1,2,3,4,5,6,7]\n",
        "\n",
        "#take a empty list\n",
        "String_list = []\n",
        "\n",
        "#convert the string of integers into strings\n",
        "for i in int_list:\n",
        "  String_list.append(str(i))\n",
        "\n",
        "#print the list of strings\n",
        "print(\"the String list : \",String_list)"
      ],
      "metadata": {
        "colab": {
          "base_uri": "https://localhost:8080/"
        },
        "id": "pzNxSrsGfwo0",
        "outputId": "8e173e0a-fa07-42bf-a3f4-831740ee7ef5"
      },
      "execution_count": 6,
      "outputs": [
        {
          "output_type": "stream",
          "name": "stdout",
          "text": [
            "the String list :  ['1', '2', '3', '4', '5', '6', '7']\n"
          ]
        }
      ]
    },
    {
      "cell_type": "code",
      "source": [
        "#create a function to flatten a nested list\n",
        "def flatten(nested_list):\n",
        "\n",
        "#create a empty list\n",
        "  flattened_list = []\n",
        "\n",
        "#start a loop to collect items\n",
        "  for item in nested_list:\n",
        "\n",
        "#give the if-else condition\n",
        "    if isinstance(item,list):\n",
        "\n",
        "      flattened_list.extend(flatten(item))\n",
        "\n",
        "    else:\n",
        "\n",
        "      flattened_list.append(item)\n",
        "\n",
        "  return flattened_list\n",
        "\n",
        "#take a nested list\n",
        "nested_list = [1, [2, 3, [4, 5]], 6, [7, 8]]\n",
        "\n",
        "#apply the function 'flatten' to nested list\n",
        "flat_list = flatten(nested_list)\n",
        "\n",
        "#print the flattened list\n",
        "print(\"the flattened list : \",flat_list)"
      ],
      "metadata": {
        "colab": {
          "base_uri": "https://localhost:8080/"
        },
        "id": "BmoOkP5gg3GL",
        "outputId": "72c1ada6-9651-4712-b35f-f5e242d57ab9"
      },
      "execution_count": 7,
      "outputs": [
        {
          "output_type": "stream",
          "name": "stdout",
          "text": [
            "the flattened list :  [1, 2, 3, 4, 5, 6, 7, 8]\n"
          ]
        }
      ]
    },
    {
      "cell_type": "code",
      "source": [
        "#generate a function to count fibonacci numbers\n",
        "def generate_fibonacci(n):\n",
        "\n",
        "#create a empty list\n",
        "  fibonacci_no = [0,1]\n",
        "\n",
        "#start a loop to collect the fibonacci numbers\n",
        "  for _ in range(2,n):\n",
        "\n",
        "    next_fibonacci = fibonacci_no[-1] + fibonacci_no[-2]\n",
        "\n",
        "\n",
        "    fibonacci_no.append(next_fibonacci)\n",
        "\n",
        "\n",
        "  return fibonacci_no\n",
        "\n",
        "#apply the function to collect the fibonacci numbers in given range\n",
        "fb_no = generate_fibonacci(10)\n",
        "\n",
        "#print the fibonacci numbers in the range\n",
        "print(\"the first 10 fibonacci numbers are : \",fb_no)"
      ],
      "metadata": {
        "colab": {
          "base_uri": "https://localhost:8080/"
        },
        "id": "kvphkL9UlDLe",
        "outputId": "b72d2a16-86ae-46a8-8f74-7d96de6991a5"
      },
      "execution_count": 9,
      "outputs": [
        {
          "output_type": "stream",
          "name": "stdout",
          "text": [
            "the first 10 fibonacci numbers are :  [0, 1, 1, 2, 3, 5, 8, 13, 21, 34]\n"
          ]
        }
      ]
    },
    {
      "cell_type": "code",
      "source": [
        "def is_sorted(lst):\n",
        "\n",
        "  for i in range(len(lst) - 1):\n",
        "\n",
        "    if lst[i] > lst[i + 1]:\n",
        "\n",
        "        return False\n",
        "\n",
        "  return True\n",
        "\n",
        "list_1 = [1,2,3,4,5,6,7]\n",
        "\n",
        "list_2 = [4,3,21,67,7,53,1]\n",
        "\n",
        "print(\"the list_1 is sorted : \",is_sorted(list_1),\"\\n\")\n",
        "\n",
        "print(\"the list_2 is sorted : \",is_sorted(list_2))"
      ],
      "metadata": {
        "colab": {
          "base_uri": "https://localhost:8080/"
        },
        "id": "IG7KYqYtomYY",
        "outputId": "a2e0f477-6053-45cd-a05c-f2b4f9b6fe07"
      },
      "execution_count": 18,
      "outputs": [
        {
          "output_type": "stream",
          "name": "stdout",
          "text": [
            "the list_1 is sorted :  True \n",
            "\n",
            "the list_2 is sorted :  False\n"
          ]
        }
      ]
    },
    {
      "cell_type": "code",
      "source": [
        "#create a function to rotate list\n",
        "def rotate_list(lst,n):\n",
        "\n",
        "  rotated_list = lst[n:] + lst[:n]\n",
        "\n",
        "  return rotated_list\n",
        "\n",
        "#take a list\n",
        "list_1 = [1,2,3,4,5,6,7]\n",
        "\n",
        "#take input of postion to be rotated\n",
        "r_position = int(input(\"enter the number postions to be rotated : \"))\n",
        "\n",
        "#apply the function on the list\n",
        "r_list = rotate_list(list_1,r_position)\n",
        "\n",
        "#print the rotated list\n",
        "print(f\"the list after rotated left by position {r_position} : \",r_list)"
      ],
      "metadata": {
        "colab": {
          "base_uri": "https://localhost:8080/"
        },
        "id": "G_LXc55KsLo3",
        "outputId": "bf3965fa-5250-41bf-cb5a-836829ea9d44"
      },
      "execution_count": 29,
      "outputs": [
        {
          "output_type": "stream",
          "name": "stdout",
          "text": [
            "enter the number postions to be rotated : 4\n",
            "the list after rotated left by position 4 :  [5, 6, 7, 1, 2, 3, 4]\n"
          ]
        }
      ]
    },
    {
      "cell_type": "code",
      "source": [
        "#create a function to rotate list\n",
        "def rotate_list(lst,n):\n",
        "\n",
        "  rotated_list = lst[-n:] + lst[:-n]\n",
        "\n",
        "  return rotated_list\n",
        "\n",
        "#take a list\n",
        "list_1 = [1,2,3,4,5,6,7]\n",
        "\n",
        "#take input of postion to be rotated\n",
        "r_position = int(input(\"enter the number postions to be rotated : \"))\n",
        "\n",
        "#apply the function on the list\n",
        "r_list = rotate_list(list_1,r_position)\n",
        "\n",
        "#print the rotated list\n",
        "print(f\"the list after rotated right by position {r_position} : \",r_list)"
      ],
      "metadata": {
        "colab": {
          "base_uri": "https://localhost:8080/"
        },
        "id": "TC0xz-R5umRn",
        "outputId": "0c4911cc-9805-4a1d-e070-d07083bd0979"
      },
      "execution_count": 31,
      "outputs": [
        {
          "output_type": "stream",
          "name": "stdout",
          "text": [
            "enter the number postions to be rotated : 4\n",
            "the list after rotated right by position 4 :  [4, 5, 6, 7, 1, 2, 3]\n"
          ]
        }
      ]
    },
    {
      "cell_type": "code",
      "source": [
        "#create a function to find prime numbers in range\n",
        "def is_prime(number):\n",
        "\n",
        "  if number < 2 :\n",
        "    return False\n",
        "\n",
        "  for i in range( 2, int(number ** 0.5) + 1):\n",
        "\n",
        "    if number % 2 == 0:\n",
        "      return False\n",
        "\n",
        "  return True\n",
        "\n",
        "#take input of starting range\n",
        "m = int(input(\"enter the starting range : \"))\n",
        "\n",
        "#take input of ending range\n",
        "n = int(input(\"enter the ending range : \"))\n",
        "\n",
        "#apply the function and range to the list\n",
        "p_no = [num for num in range(m,n) if is_prime(num)]\n",
        "\n",
        "#print the list of prime numbers in the range\n",
        "print(f\"the prime number in range from {m} to {n} : \",p_no)"
      ],
      "metadata": {
        "colab": {
          "base_uri": "https://localhost:8080/"
        },
        "id": "YMw1vXM6wX5g",
        "outputId": "221f8634-2643-42ec-aeb1-cbb87e60a5ab"
      },
      "execution_count": 34,
      "outputs": [
        {
          "output_type": "stream",
          "name": "stdout",
          "text": [
            "enter the starting range : 2\n",
            "enter the ending range : 50\n",
            "the prime number in range from 2 to 50 :  [2, 3, 5, 7, 9, 11, 13, 15, 17, 19, 21, 23, 25, 27, 29, 31, 33, 35, 37, 39, 41, 43, 45, 47, 49]\n"
          ]
        }
      ]
    },
    {
      "cell_type": "code",
      "source": [
        "#create a function to split the list\n",
        "def split_ic(lst,n):\n",
        "\n",
        "#take a empty list\n",
        "  r_chunks = []\n",
        "\n",
        "#use range function to collect the chunks of list\n",
        "  for i in range(0,len(lst),n):\n",
        "\n",
        "    chunk = lst[ i : i + n ]\n",
        "\n",
        "    r_chunks.append(chunk)\n",
        "\n",
        "  return r_chunks\n",
        "\n",
        "#take a list\n",
        "list_1 = [1,2,3,4,5,6,7,8,9]\n",
        "\n",
        "#take a size of chunk as input\n",
        "chunk_size = int(input(\"enter the size of chunks of list you need : \"))\n",
        "\n",
        "#apply the function to the list\n",
        "result_chunks = split_ic(list_1,chunk_size)\n",
        "\n",
        "#print the chunks of list\n",
        "print(f\"the chunks of list of size '{chunk_size}' : \",result_chunks)"
      ],
      "metadata": {
        "colab": {
          "base_uri": "https://localhost:8080/"
        },
        "id": "upbinCLf8TMg",
        "outputId": "95f0d2ee-66a4-44bf-d5de-09ca7238b93d"
      },
      "execution_count": 3,
      "outputs": [
        {
          "output_type": "stream",
          "name": "stdout",
          "text": [
            "enter the size of chunks of list you need : 3\n",
            "the chunks of list of size '3' :  [[1, 2, 3], [4, 5, 6], [7, 8, 9]]\n"
          ]
        }
      ]
    },
    {
      "cell_type": "code",
      "source": [
        "#create a function to find second largest number in the list\n",
        "def sln(lst):\n",
        "\n",
        "  if len(lst) < 2 :\n",
        "\n",
        "    return \"list has less than 2 elements\"\n",
        "\n",
        "#convert the list into set to remove duplicates from the list\n",
        "#and reverse the list to find the second largest number\n",
        "  sorted_uni_no = sorted(set(lst),reverse=True)\n",
        "\n",
        "  if len(sorted_uni_no) >= 2 :\n",
        "\n",
        "    return sorted_uni_no[1]\n",
        "\n",
        "  else :\n",
        "\n",
        "    return \"there is no second largest number in the list \"\n",
        "\n",
        "#take a list\n",
        "list_1 = [3,4,7,8,9,1,2,6]\n",
        "\n",
        "#apply the function to the list\n",
        "second_l_no = sln(list_1)\n",
        "\n",
        "#print the second largest number in the list\n",
        "print(\"the second largest number in the list : \", second_l_no)\n",
        "\n"
      ],
      "metadata": {
        "colab": {
          "base_uri": "https://localhost:8080/"
        },
        "id": "u-0DCyD6_rOi",
        "outputId": "ae2ba16b-8f77-4932-dd93-93cada62c81b"
      },
      "execution_count": 8,
      "outputs": [
        {
          "output_type": "stream",
          "name": "stdout",
          "text": [
            "the second largest number in the list :  8\n"
          ]
        }
      ]
    },
    {
      "cell_type": "code",
      "source": [
        "#create a function to find the square of elelments in the list\n",
        "def sq_elements(lst):\n",
        "\n",
        "  sq_list = [i ** 2 for i in lst]\n",
        "\n",
        "  return sq_list\n",
        "\n",
        "#take a list\n",
        "list_1 = [1, 2 , 3, 4, 5, 6, 7]\n",
        "\n",
        "#apply the function to list\n",
        "sq_e = sq_elements(list_1)\n",
        "\n",
        "#print the squared elements of list\n",
        "print(\"the list of squares of elements in the list : \",sq_e)"
      ],
      "metadata": {
        "colab": {
          "base_uri": "https://localhost:8080/"
        },
        "id": "xHCNrfERS7dU",
        "outputId": "fc35db01-f017-4bf3-b844-7bbbb4a9aef0"
      },
      "execution_count": 13,
      "outputs": [
        {
          "output_type": "stream",
          "name": "stdout",
          "text": [
            "the list of squares of elements in the list :  [1, 4, 9, 16, 25, 36, 49]\n"
          ]
        }
      ]
    },
    {
      "cell_type": "code",
      "source": [
        "#create a function to convert list to dictonary\n",
        "def list_to_dict(lst):\n",
        "\n",
        "#take a empty dictonary\n",
        "  r_dict = {}\n",
        "\n",
        "# enumerate the list to find the index of elements\n",
        "  for index , element in enumerate(lst):\n",
        "\n",
        "    r_dict[element] = index\n",
        "\n",
        "  return r_dict\n",
        "\n",
        "#take a list\n",
        "list_1 = [\"car\",\"bike\",\"motorcycle\",\"cycle\",\"truck\"]\n",
        "\n",
        "#convert the list to dictonary using function\n",
        "f_dict = list_to_dict(list_1)\n",
        "\n",
        "#print the dictonary with elements as keys and indexes as values\n",
        "print(\"dictonary with elements as keys and index as values : \",f_dict)\n",
        "\n"
      ],
      "metadata": {
        "colab": {
          "base_uri": "https://localhost:8080/"
        },
        "id": "JlgO0HAfUUlZ",
        "outputId": "65bdd608-6a77-4f91-882f-3301494b708d"
      },
      "execution_count": 14,
      "outputs": [
        {
          "output_type": "stream",
          "name": "stdout",
          "text": [
            "dictonary with elements as keys and index as values :  {'car': 0, 'bike': 1, 'motorcycle': 2, 'cycle': 3, 'truck': 4}\n"
          ]
        }
      ]
    },
    {
      "cell_type": "code",
      "source": [
        "# import the module random\n",
        "import random\n",
        "\n",
        "# take a list\n",
        "list_1 = [1,2,3,4,5,6,7]\n",
        "\n",
        "# shuffle the list randomly\n",
        "random.shuffle(list_1)\n",
        "\n",
        "# print the shuffled list\n",
        "print(\"the shuffled list : \",list_1)"
      ],
      "metadata": {
        "colab": {
          "base_uri": "https://localhost:8080/"
        },
        "id": "_ruW_pfiXxhQ",
        "outputId": "aa11ebe1-b3aa-45ea-9d33-0a4984bf81c3"
      },
      "execution_count": 17,
      "outputs": [
        {
          "output_type": "stream",
          "name": "stdout",
          "text": [
            "the shuffled list :  [4, 5, 1, 2, 3, 6, 7]\n"
          ]
        }
      ]
    },
    {
      "cell_type": "code",
      "source": [
        "#create a function to find the factorail of numbers\n",
        "def factorial(n):\n",
        "\n",
        "  if n == 0 or n == 1:\n",
        "\n",
        "    return 1\n",
        "\n",
        "  else :\n",
        "    return n * factorial(n -1)\n",
        "\n",
        "# apply factorial function in the range\n",
        "facto_no = [factorial(i) for i in range(10)]\n",
        "\n",
        "#print the list of factorial numbers\n",
        "print(\" the list of first 10 factorial numbers : \",facto_no)"
      ],
      "metadata": {
        "colab": {
          "base_uri": "https://localhost:8080/"
        },
        "id": "CX26xyyrYoyA",
        "outputId": "add1b42f-b1bb-4022-d0a9-8bbabb7caa3c"
      },
      "execution_count": 21,
      "outputs": [
        {
          "output_type": "stream",
          "name": "stdout",
          "text": [
            " the list of first factorial numbers :  [1, 1, 2, 6, 24, 120, 720, 5040, 40320, 362880]\n"
          ]
        }
      ]
    },
    {
      "cell_type": "code",
      "source": [
        "#create a function to altest one common element in 2 lists\n",
        "def c_ele(list_1,list_2):\n",
        "\n",
        "  return any(element in list_1 for element in list_2)\n",
        "\n",
        "# take a list\n",
        "list_a = [1,2,3,4,5]\n",
        "\n",
        "#take another list\n",
        "list_b = [5,6,7,8,9]\n",
        "\n",
        "#take if-else condition to find atleast one element is present in 2 lists\n",
        "if c_ele(list_a , list_b):\n",
        "  print(\"there is atleast one common element in the list \")\n",
        "\n",
        "else :\n",
        "  print(\"there is no common element in the list \")"
      ],
      "metadata": {
        "colab": {
          "base_uri": "https://localhost:8080/"
        },
        "id": "3N0AL6h-aMVj",
        "outputId": "44fdce45-42b2-4ff8-f00d-995f15a2fe35"
      },
      "execution_count": 23,
      "outputs": [
        {
          "output_type": "stream",
          "name": "stdout",
          "text": [
            "there is atleast one common element in the list \n"
          ]
        }
      ]
    },
    {
      "cell_type": "code",
      "source": [
        "# take a list\n",
        "list_1 = [1,2,3,4,5,6,7]\n",
        "\n",
        "#clear the list\n",
        "list_1.clear()\n",
        "\n",
        "#print the cleared list\n",
        "print(\"the cleared list : \",list_1)"
      ],
      "metadata": {
        "colab": {
          "base_uri": "https://localhost:8080/"
        },
        "id": "B99TpqIBf-gd",
        "outputId": "758729ba-cc6a-4d26-9d41-148569907a60"
      },
      "execution_count": 24,
      "outputs": [
        {
          "output_type": "stream",
          "name": "stdout",
          "text": [
            "the cleared list :  []\n"
          ]
        }
      ]
    },
    {
      "cell_type": "code",
      "source": [
        "# take a list\n",
        "list_1 = [1,-2,-3,4,5,6,-7,-8,-9]\n",
        "\n",
        "# apply a method the negative numbers with 0\n",
        "for i in range(len(list_1)):\n",
        "\n",
        "  if list_1[i] < 0 :\n",
        "    list_1[i] = 0\n",
        "\n",
        "#print the modified list\n",
        "print(\"the modified list : \",list_1)\n",
        "\n"
      ],
      "metadata": {
        "colab": {
          "base_uri": "https://localhost:8080/"
        },
        "id": "49Y4V8lOgrgA",
        "outputId": "b17d50e8-9413-4e5a-ff0f-e261f0a7fc94"
      },
      "execution_count": 25,
      "outputs": [
        {
          "output_type": "stream",
          "name": "stdout",
          "text": [
            "the modified list :  [1, 0, 0, 4, 5, 6, 0, 0, 0]\n"
          ]
        }
      ]
    },
    {
      "cell_type": "code",
      "source": [
        "#take a string\n",
        "String1 = \"this is a sample string we have to use\"\n",
        "\n",
        "#convert the string into list of words\n",
        "w_list = String1.split()\n",
        "\n",
        "#print the list of words\n",
        "print(\"the list of words : \",w_list)"
      ],
      "metadata": {
        "colab": {
          "base_uri": "https://localhost:8080/"
        },
        "id": "GiegcnqEi83C",
        "outputId": "e229dc6c-df85-4785-dd87-9e30f686b03f"
      },
      "execution_count": 26,
      "outputs": [
        {
          "output_type": "stream",
          "name": "stdout",
          "text": [
            "the list of words :  ['this', 'is', 'a', 'sample', 'string', 'we', 'have', 'to', 'use']\n"
          ]
        }
      ]
    },
    {
      "cell_type": "code",
      "source": [
        "#tke a list of words\n",
        "list_1 = ['this', 'is', 'a', 'sample', 'string', 'we', 'have', 'to', 'use']\n",
        "\n",
        "#join the words\n",
        "String1 = ' '.join(list_1)\n",
        "\n",
        "#print the joined string\n",
        "print(\"the string : \",String1)"
      ],
      "metadata": {
        "colab": {
          "base_uri": "https://localhost:8080/"
        },
        "id": "gAgJrKGLj6iO",
        "outputId": "1e154daa-89f8-4461-cd18-e2a57c65be01"
      },
      "execution_count": 28,
      "outputs": [
        {
          "output_type": "stream",
          "name": "stdout",
          "text": [
            "the string :  this is a sample string we have to use\n"
          ]
        }
      ]
    },
    {
      "cell_type": "code",
      "source": [
        "#create a function to find power of 2 upto n numbers\n",
        "def po_of_2(n):\n",
        "\n",
        "  return [ 2 ** i for i in range(n)]\n",
        "\n",
        "# take the range as input\n",
        "n = int(input(\"enter the number : \"))\n",
        "\n",
        "# apply the function\n",
        "po_list = po_of_2(n)\n",
        "\n",
        "# print the list of powers of 2's in the range\n",
        "print(f\"the first {n} number of power of 2 : \",po_list)"
      ],
      "metadata": {
        "colab": {
          "base_uri": "https://localhost:8080/"
        },
        "id": "e0j7jQ1ukfkE",
        "outputId": "c6a6d885-b696-4237-f8bc-e99a6d39b0d0"
      },
      "execution_count": 33,
      "outputs": [
        {
          "output_type": "stream",
          "name": "stdout",
          "text": [
            "enter the number : 10\n",
            "the first 10 number of power of 2 :  [1, 2, 4, 8, 16, 32, 64, 128, 256, 512]\n"
          ]
        }
      ]
    },
    {
      "cell_type": "code",
      "source": [
        "# take a list of strings\n",
        "list_1 = ['apple', 'banana', 'kiwi', 'strawberry', 'orange']\n",
        "\n",
        "l_str = max(list_1,key=len)\n",
        "\n",
        "# print the longest string\n",
        "print(\"the longest string : \",l_str)"
      ],
      "metadata": {
        "colab": {
          "base_uri": "https://localhost:8080/"
        },
        "id": "WXuBUKkUmVDz",
        "outputId": "3785c2da-e12d-4e60-bf8c-a5cab6b4ecf2"
      },
      "execution_count": 34,
      "outputs": [
        {
          "output_type": "stream",
          "name": "stdout",
          "text": [
            "the longest string :  strawberry\n"
          ]
        }
      ]
    },
    {
      "cell_type": "code",
      "source": [
        "# take a list of strings\n",
        "list_1 = ['apple', 'banana', 'kiwi', 'strawberry', 'orange']\n",
        "\n",
        "l_str = min(list_1,key=len)\n",
        "\n",
        "# print the shortest string\n",
        "print(\"the shortest string : \",l_str)"
      ],
      "metadata": {
        "colab": {
          "base_uri": "https://localhost:8080/"
        },
        "id": "7R48DiRTm3VS",
        "outputId": "0ffd7e9d-1c44-4a52-a069-67fec888d852"
      },
      "execution_count": 35,
      "outputs": [
        {
          "output_type": "stream",
          "name": "stdout",
          "text": [
            "the shortest string :  kiwi\n"
          ]
        }
      ]
    },
    {
      "cell_type": "code",
      "source": [
        "#create a function to find triangular numbers\n",
        "def tri_no(n):\n",
        "  return [ (i * (i+1)) // 2 for i in range(1 , n + 1)]\n",
        "\n",
        "# take the range as input\n",
        "n  = int(input(\"enter the number : \"))\n",
        "\n",
        "tri_list = tri_no(n)\n",
        "\n",
        "# print the list of tringular numbers\n",
        "print(f\" the first {n} tringular numbers : \",tri_list)"
      ],
      "metadata": {
        "colab": {
          "base_uri": "https://localhost:8080/"
        },
        "id": "QXXn98Unnw-H",
        "outputId": "ae2cfcff-9023-4ec9-8c3f-0866ab5ec60a"
      },
      "execution_count": 38,
      "outputs": [
        {
          "output_type": "stream",
          "name": "stdout",
          "text": [
            "enter the number : 7\n",
            " the first 7 tringular numbers :  [1, 3, 6, 10, 15, 21, 28]\n"
          ]
        }
      ]
    },
    {
      "cell_type": "code",
      "source": [
        "#create a function\n",
        "def is_subsequence(sublist,mainlist):\n",
        "\n",
        "  it = iter(mainlist)\n",
        "\n",
        "  return all(element in it for element in sublist)\n",
        "\n",
        "# take a mainlist\n",
        "mainlist = [1,2,3,4,5,6,7,8,9]\n",
        "\n",
        "# take a sublist\n",
        "sublist = [2,6,9]\n",
        "\n",
        "result = is_subsequence(sublist,mainlist)\n",
        "\n",
        "#print the result\n",
        "print(\" the main list contains another sublist as a subsequence : \",result)"
      ],
      "metadata": {
        "colab": {
          "base_uri": "https://localhost:8080/"
        },
        "id": "0vrAElLWrigl",
        "outputId": "2b08ff52-840d-4ceb-b089-1b9340b15617"
      },
      "execution_count": 39,
      "outputs": [
        {
          "output_type": "stream",
          "name": "stdout",
          "text": [
            " the main list contains another sublist as a subsequence :  True\n"
          ]
        }
      ]
    },
    {
      "cell_type": "code",
      "source": [
        "#create a function\n",
        "def swap_ele_indices(my_list, index1, index2):\n",
        "\n",
        "    # Check if indices are within the bounds of the list\n",
        "    if 0 <= index1 < len(my_list) and 0 <= index2 < len(my_list):\n",
        "\n",
        "        # Swap elements using a temporary variable\n",
        "        my_list[index1], my_list[index2] = my_list[index2], my_list[index1]\n",
        "\n",
        "    else:\n",
        "        print(\"Invalid indices. Cannot swap elements.\")\n",
        "\n",
        "\n",
        "list_1 = [1, 2, 3, 4, 5,6,7]\n",
        "\n",
        "m = int(input(\"enter the index 1 : \"))\n",
        "\n",
        "n = int(input(\"enter the index 2 : \"))\n",
        "\n",
        "# Swap elements at indices 1 and 3\n",
        "swap_ele_indices(list_1, m, n)\n",
        "\n",
        "# Print the modified list\n",
        "print(\"List after swapping elements:\", list_1)"
      ],
      "metadata": {
        "colab": {
          "base_uri": "https://localhost:8080/"
        },
        "id": "hBTRIWICsycQ",
        "outputId": "52ed2c88-c47a-41f3-e199-d283355369a0"
      },
      "execution_count": 44,
      "outputs": [
        {
          "output_type": "stream",
          "name": "stdout",
          "text": [
            "enter the index 1 : 2\n",
            "enter the index 2 : 3\n",
            "List after swapping elements: [1, 2, 4, 3, 5, 6, 7]\n"
          ]
        }
      ]
    }
  ]
}