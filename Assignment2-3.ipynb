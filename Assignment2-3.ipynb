{
  "nbformat": 4,
  "nbformat_minor": 0,
  "metadata": {
    "colab": {
      "provenance": []
    },
    "kernelspec": {
      "name": "python3",
      "display_name": "Python 3"
    },
    "language_info": {
      "name": "python"
    }
  },
  "cells": [
    {
      "cell_type": "markdown",
      "source": [
        "Tuple Programs\n"
      ],
      "metadata": {
        "id": "MZ3z_wsoxZR2"
      }
    },
    {
      "cell_type": "code",
      "execution_count": 2,
      "metadata": {
        "colab": {
          "base_uri": "https://localhost:8080/"
        },
        "id": "Z7jaezUZwO-m",
        "outputId": "f666da6b-9df5-42b5-e75f-b7bc2c61ff5d"
      },
      "outputs": [
        {
          "output_type": "stream",
          "name": "stdout",
          "text": [
            "the tuple from 1 to 5 : (1, 2, 3, 4, 5)\n"
          ]
        }
      ],
      "source": [
        "#take a tuple\n",
        "tuple_1= (1,2,3,4,5)\n",
        "\n",
        "#print the tuple\n",
        "print(\"the tuple from 1 to 5 :\",tuple_1)"
      ]
    },
    {
      "cell_type": "code",
      "source": [
        "#take a tuple\n",
        "tuple_1= (1,2,3,4,5)\n",
        "\n",
        "#print the third element in tuple\n",
        "print(\"the third element in tuple : \",tuple_1[2])"
      ],
      "metadata": {
        "colab": {
          "base_uri": "https://localhost:8080/"
        },
        "id": "nPCU1OB2xXJh",
        "outputId": "16a5ba32-d13b-42ce-90c9-fc4e85d5ce33"
      },
      "execution_count": 5,
      "outputs": [
        {
          "output_type": "stream",
          "name": "stdout",
          "text": [
            "the third element in tuple :  3\n"
          ]
        }
      ]
    },
    {
      "cell_type": "code",
      "source": [
        "#take a tuple\n",
        "tuple_1= (1,2,3,4,5)\n",
        "\n",
        "# intiate the count of length of tuple\n",
        "count = 0\n",
        "\n",
        "for element in tuple_1:\n",
        "  count = count + 1\n",
        "\n",
        "#print the length of tuple\n",
        "print(\"the length of tuple is : \",count)"
      ],
      "metadata": {
        "colab": {
          "base_uri": "https://localhost:8080/"
        },
        "id": "dXeiWIPkx-b0",
        "outputId": "98b6a425-2ad6-4b27-9e30-bff2d8f608d0"
      },
      "execution_count": 6,
      "outputs": [
        {
          "output_type": "stream",
          "name": "stdout",
          "text": [
            "the length of tuple is :  5\n"
          ]
        }
      ]
    },
    {
      "cell_type": "code",
      "source": [
        "#take a tuple\n",
        "tuple_1= (1,2,3,4,5,2,3,4,6,7,8,9,2,4,3,5,6)\n",
        "\n",
        "# the element to count\n",
        "e_count = int(input(\"enter the number : \"))\n",
        "\n",
        "occurence = tuple_1.count(e_count)\n",
        "\n",
        "#print the occurence of element\n",
        "print(f\"the element {e_count} is occured in tuple : \",occurence ,\" times\")\n"
      ],
      "metadata": {
        "colab": {
          "base_uri": "https://localhost:8080/"
        },
        "id": "bFJ_RxqLyu0Y",
        "outputId": "015e3671-a57f-428f-cec8-ab61b4ec1025"
      },
      "execution_count": 8,
      "outputs": [
        {
          "output_type": "stream",
          "name": "stdout",
          "text": [
            "enter the number : 2\n",
            "the element 2 is occured in tuple :  3  times\n"
          ]
        }
      ]
    },
    {
      "cell_type": "code",
      "source": [
        "#take a tuple\n",
        "tuple_1= (1,2,3,4,5,2,3,4,6,7,8,9,2,4,3,5,6)\n",
        "\n",
        "# the element of index to find\n",
        "f_count = int(input(\"enter the number : \"))\n",
        "\n",
        "f_index = tuple_1.index(f_count)\n",
        "\n",
        "#print the indes of element\n",
        "print(f\"the index of element {f_count} is : \",f_index)"
      ],
      "metadata": {
        "colab": {
          "base_uri": "https://localhost:8080/"
        },
        "id": "pXtuTbQd0EXC",
        "outputId": "319fc9b5-1a20-420e-872c-c49520f5e79a"
      },
      "execution_count": 9,
      "outputs": [
        {
          "output_type": "stream",
          "name": "stdout",
          "text": [
            "enter the number : 9\n",
            "the index of element 9 is :  11\n"
          ]
        }
      ]
    },
    {
      "cell_type": "markdown",
      "source": [],
      "metadata": {
        "id": "Z3EZMQQ1xXeH"
      }
    },
    {
      "cell_type": "code",
      "source": [
        "#take a tuple\n",
        "tuple_1= (1,2,3,4,5,2,3,4,6,7,8,9,2,4,3,5,6)\n",
        "\n",
        "# take input element to check\n",
        "ele_c = int(input(\"enter the number : \"))\n",
        "\n",
        "if ele_c in tuple_1 :\n",
        "  print(f\"\\n {ele_c} exists in tuple \")\n",
        "\n",
        "else:\n",
        "  print(f\"\\n{ele_c} not exists in tuple\")"
      ],
      "metadata": {
        "colab": {
          "base_uri": "https://localhost:8080/"
        },
        "id": "SNl6GeSv09Wn",
        "outputId": "9ff34b11-74f1-42e6-c85f-2b8c0039008a"
      },
      "execution_count": 12,
      "outputs": [
        {
          "output_type": "stream",
          "name": "stdout",
          "text": [
            "enter the number : 4\n",
            "\n",
            " 4 exists in tuple \n"
          ]
        }
      ]
    },
    {
      "cell_type": "code",
      "source": [
        "#take a tuple\n",
        "tuple_1= (1,2,3,4,5,2,3,4,6,7,8,9,2,4,3,5,6)\n",
        "\n",
        "# convert tuple to list\n",
        "list_1 = list(tuple_1)\n",
        "\n",
        "#print the list\n",
        "print(\"the list : \",list_1)"
      ],
      "metadata": {
        "colab": {
          "base_uri": "https://localhost:8080/"
        },
        "id": "4O4oGs2d1ojt",
        "outputId": "42f05014-271f-41be-b4d3-faae9109225d"
      },
      "execution_count": 13,
      "outputs": [
        {
          "output_type": "stream",
          "name": "stdout",
          "text": [
            "the list :  [1, 2, 3, 4, 5, 2, 3, 4, 6, 7, 8, 9, 2, 4, 3, 5, 6]\n"
          ]
        }
      ]
    },
    {
      "cell_type": "code",
      "source": [
        "#take a list\n",
        "list_1 =  [1, 2, 3, 4, 5, 2, 3, 4, 6, 7, 8, 9, 2, 4, 3, 5, 6]\n",
        "\n",
        "#convert list to tuple\n",
        "tuple_1 = tuple(list_1)\n",
        "\n",
        "#print the tuple\n",
        "print(\"the tuple : \",tuple_1)"
      ],
      "metadata": {
        "colab": {
          "base_uri": "https://localhost:8080/"
        },
        "id": "xa2E1BiX2AUq",
        "outputId": "d3bd53f4-e005-4045-f4ab-bc559a396cd4"
      },
      "execution_count": 14,
      "outputs": [
        {
          "output_type": "stream",
          "name": "stdout",
          "text": [
            "the tuple :  (1, 2, 3, 4, 5, 2, 3, 4, 6, 7, 8, 9, 2, 4, 3, 5, 6)\n"
          ]
        }
      ]
    },
    {
      "cell_type": "code",
      "source": [
        "#take a tuple\n",
        "tuple_1= (1,2,3,4,5)\n",
        "\n",
        "# unpack the elements\n",
        "var1,var2,var3,var4,var5 = tuple_1\n",
        "\n",
        "# print the varaibles\n",
        "print(\"variable 1 : \",var1)\n",
        "print(\"variable 2 : \",var2)\n",
        "print(\"variable 3 : \",var3)\n",
        "print(\"variable 4 : \",var4)\n",
        "print(\"variable 5 : \",var5)"
      ],
      "metadata": {
        "colab": {
          "base_uri": "https://localhost:8080/"
        },
        "id": "lULqEuOA24BZ",
        "outputId": "0bab3a4b-de34-40be-85d6-074fcc7e411a"
      },
      "execution_count": 15,
      "outputs": [
        {
          "output_type": "stream",
          "name": "stdout",
          "text": [
            "variable 1 :  1\n",
            "variable 2 :  2\n",
            "variable 3 :  3\n",
            "variable 4 :  4\n",
            "variable 5 :  5\n"
          ]
        }
      ]
    },
    {
      "cell_type": "code",
      "source": [
        "#create a function that finds even numbers in range\n",
        "def even_no(start,end):\n",
        "\n",
        "  even_numbers = tuple(x for x in range(start , end + 1) if x % 2 == 0)\n",
        "\n",
        "  return even_numbers\n",
        "\n",
        "#specify the range\n",
        "e_no = even_no(2,10)\n",
        "\n",
        "#print the even numbers\n",
        "print(\"even numbers from 1 to 10 : \",e_no)"
      ],
      "metadata": {
        "colab": {
          "base_uri": "https://localhost:8080/"
        },
        "id": "GxyLfCWf5U5G",
        "outputId": "fdb36af9-7d4a-469b-8fa9-b41ecd3dbe4b"
      },
      "execution_count": 17,
      "outputs": [
        {
          "output_type": "stream",
          "name": "stdout",
          "text": [
            "even numbers from 1 to 10 :  (2, 4, 6, 8, 10)\n"
          ]
        }
      ]
    },
    {
      "cell_type": "code",
      "source": [
        "#create a function that finds odd numbers in range\n",
        "def odd_no(start,end):\n",
        "\n",
        "  odd_numbers = tuple(x for x in range(start , end + 1) if x % 2 != 0)\n",
        "\n",
        "  return odd_numbers\n",
        "\n",
        "#specify the range\n",
        "o_no = odd_no(1,10)\n",
        "\n",
        "#print the odd numbers\n",
        "print(\"even numbers from 1 to 10 : \",o_no)"
      ],
      "metadata": {
        "colab": {
          "base_uri": "https://localhost:8080/"
        },
        "id": "6Kp31Fmv8B8a",
        "outputId": "f3bfdc3d-6052-46b2-f10d-503a2cda79c4"
      },
      "execution_count": 18,
      "outputs": [
        {
          "output_type": "stream",
          "name": "stdout",
          "text": [
            "even numbers from 1 to 10 :  (1, 3, 5, 7, 9)\n"
          ]
        }
      ]
    },
    {
      "cell_type": "code",
      "source": [
        "# take 2 tuples\n",
        "tuple1 = (1, 2, 3)\n",
        "tuple2 = (4, 5, 6)\n",
        "\n",
        "#concatenation\n",
        "conc_tuple = tuple1 + tuple2\n",
        "\n",
        "#print the concatenated tuple\n",
        "print(\"the concatenated tuple : \",conc_tuple)"
      ],
      "metadata": {
        "colab": {
          "base_uri": "https://localhost:8080/"
        },
        "id": "5XR5SzrG8XzP",
        "outputId": "6b1fd328-cd97-4ee1-feba-9ab24a011a94"
      },
      "execution_count": 19,
      "outputs": [
        {
          "output_type": "stream",
          "name": "stdout",
          "text": [
            "the concatenated tuple :  (1, 2, 3, 4, 5, 6)\n"
          ]
        }
      ]
    },
    {
      "cell_type": "code",
      "source": [
        "#take a tuple\n",
        "tuple_1= (1,2,3,4,5)\n",
        "\n",
        "# repeat the tuple 3 times\n",
        "r_tuple = tuple_1 * 3\n",
        "\n",
        "#print the repeated tuple\n",
        "print(\"the repeated tuple : \",r_tuple)"
      ],
      "metadata": {
        "colab": {
          "base_uri": "https://localhost:8080/"
        },
        "id": "ykUgyPcv-gMA",
        "outputId": "5265a183-eeca-4322-cb08-4c09261204d2"
      },
      "execution_count": 20,
      "outputs": [
        {
          "output_type": "stream",
          "name": "stdout",
          "text": [
            "the repeated tuple :  (1, 2, 3, 4, 5, 1, 2, 3, 4, 5, 1, 2, 3, 4, 5)\n"
          ]
        }
      ]
    },
    {
      "cell_type": "code",
      "source": [
        "#take a tuple\n",
        "tuple1 = (1,2,3,4,5)\n",
        "\n",
        "if len(tuple1) == 0 :\n",
        "  print(\"the tuple is empty\")\n",
        "\n",
        "else :\n",
        "  print(\"the tuple is not empty\")"
      ],
      "metadata": {
        "id": "06Qq1gPXDVuf"
      },
      "execution_count": null,
      "outputs": []
    },
    {
      "cell_type": "code",
      "source": [
        "#take a tuple\n",
        "tuple1 = (1,2,3,'a','b','c')\n",
        "\n",
        "#nest the tuple\n",
        "n_tuple = (tuple1[:3],tuple1[3:])\n",
        "\n",
        "#print the nested tuple\n",
        "print(\"the nested tuple : \",n_tuple)"
      ],
      "metadata": {
        "colab": {
          "base_uri": "https://localhost:8080/"
        },
        "id": "5MaWxkvlAdqi",
        "outputId": "a5291e96-333b-41c4-f330-228937e95227"
      },
      "execution_count": 21,
      "outputs": [
        {
          "output_type": "stream",
          "name": "stdout",
          "text": [
            "the nested tuple :  ((1, 2, 3), ('a', 'b', 'c'))\n"
          ]
        }
      ]
    },
    {
      "cell_type": "code",
      "source": [
        "# take a nested tuple\n",
        "tuple1 = (((1, 2), 3), ('a', 'b', 'c'))\n",
        "\n",
        "# find the 1st element\n",
        "f_ele = tuple_1[0]\n",
        "\n",
        "#print the 1st element\n",
        "print(\"the 1st element in nested loop : \",f_ele)"
      ],
      "metadata": {
        "colab": {
          "base_uri": "https://localhost:8080/"
        },
        "id": "MaPJADd5BhX-",
        "outputId": "7c0b9756-bcec-4465-afde-455d96ae66b6"
      },
      "execution_count": 26,
      "outputs": [
        {
          "output_type": "stream",
          "name": "stdout",
          "text": [
            "the 1st element in nested loop :  1\n"
          ]
        }
      ]
    },
    {
      "cell_type": "code",
      "source": [
        "tuple1 = (21,)\n",
        "\n",
        "print(\"single element tuple : \",tuple1)"
      ],
      "metadata": {
        "colab": {
          "base_uri": "https://localhost:8080/"
        },
        "id": "WlITBTkSEYmF",
        "outputId": "0112735f-1069-48de-8bf8-4b02913d6965"
      },
      "execution_count": 27,
      "outputs": [
        {
          "output_type": "stream",
          "name": "stdout",
          "text": [
            "single element tuple :  (21,)\n"
          ]
        }
      ]
    },
    {
      "cell_type": "code",
      "source": [
        "#take 2 tuples\n",
        "tuple1 = (1,2,3)\n",
        "tuple2 = (1,2,6)\n",
        "\n",
        "#check the tuples are equal or not\n",
        "if tuple1 == tuple2 :\n",
        "\n",
        "  print(\"the tuples are equal\")\n",
        "\n",
        "else :\n",
        "\n",
        "  print(\"the tuples are not equal\")"
      ],
      "metadata": {
        "colab": {
          "base_uri": "https://localhost:8080/"
        },
        "id": "lAFaibaPEyR1",
        "outputId": "f2a32ea9-832c-4097-eee1-759a028557ce"
      },
      "execution_count": 28,
      "outputs": [
        {
          "output_type": "stream",
          "name": "stdout",
          "text": [
            "the tuples are not equal\n"
          ]
        }
      ]
    },
    {
      "cell_type": "code",
      "source": [
        "#take a tuple\n",
        "tuple1 = (1,2,3,'a','b','c')\n",
        "\n",
        "del tuple1\n",
        "\n",
        "print(tuple1)"
      ],
      "metadata": {
        "colab": {
          "base_uri": "https://localhost:8080/",
          "height": 210
        },
        "id": "V3GuL1uQFZxB",
        "outputId": "4db16c6f-1325-4665-fbf2-353734729fec"
      },
      "execution_count": 30,
      "outputs": [
        {
          "output_type": "error",
          "ename": "NameError",
          "evalue": "ignored",
          "traceback": [
            "\u001b[0;31m---------------------------------------------------------------------------\u001b[0m",
            "\u001b[0;31mNameError\u001b[0m                                 Traceback (most recent call last)",
            "\u001b[0;32m<ipython-input-30-d9ef0cae7583>\u001b[0m in \u001b[0;36m<cell line: 6>\u001b[0;34m()\u001b[0m\n\u001b[1;32m      4\u001b[0m \u001b[0;32mdel\u001b[0m \u001b[0mtuple1\u001b[0m\u001b[0;34m\u001b[0m\u001b[0;34m\u001b[0m\u001b[0m\n\u001b[1;32m      5\u001b[0m \u001b[0;34m\u001b[0m\u001b[0m\n\u001b[0;32m----> 6\u001b[0;31m \u001b[0mprint\u001b[0m\u001b[0;34m(\u001b[0m\u001b[0mtuple1\u001b[0m\u001b[0;34m)\u001b[0m\u001b[0;34m\u001b[0m\u001b[0;34m\u001b[0m\u001b[0m\n\u001b[0m",
            "\u001b[0;31mNameError\u001b[0m: name 'tuple1' is not defined"
          ]
        }
      ]
    },
    {
      "cell_type": "code",
      "source": [
        "#take a tuple\n",
        "tuple1 = (1,2,3,4,5,6,7,8,9)\n",
        "\n",
        "s_tuple = tuple1[2:6]\n",
        "\n",
        "print(\"the sliced tuple : \",s_tuple)"
      ],
      "metadata": {
        "colab": {
          "base_uri": "https://localhost:8080/"
        },
        "id": "-h3G2knvFujK",
        "outputId": "364139d7-fc04-44ee-886a-04a6c92abfbb"
      },
      "execution_count": 31,
      "outputs": [
        {
          "output_type": "stream",
          "name": "stdout",
          "text": [
            "the sliced tuple :  (3, 4, 5, 6)\n"
          ]
        }
      ]
    },
    {
      "cell_type": "code",
      "source": [
        "#take a tuple\n",
        "tuple1 = (32,45,67,12,34,78,9,61)\n",
        "\n",
        "#find the maximum value\n",
        "max_value = max(tuple1)\n",
        "\n",
        "#print the maximum value\n",
        "print(\"the maximum value in the tuple : \",max_value)"
      ],
      "metadata": {
        "colab": {
          "base_uri": "https://localhost:8080/"
        },
        "id": "q8h6yPoQGduQ",
        "outputId": "4c2879e7-4d6e-4822-9e5c-7edf905346c1"
      },
      "execution_count": 32,
      "outputs": [
        {
          "output_type": "stream",
          "name": "stdout",
          "text": [
            "the maximum value in the tuple :  78\n"
          ]
        }
      ]
    },
    {
      "cell_type": "code",
      "source": [
        "#take a tuple\n",
        "tuple1 = (32,45,67,12,34,78,9,61)\n",
        "\n",
        "#find the minimum value\n",
        "min_value = min(tuple1)\n",
        "\n",
        "#print the maximum value\n",
        "print(\"the minimum value in the tuple : \",min_value)"
      ],
      "metadata": {
        "colab": {
          "base_uri": "https://localhost:8080/"
        },
        "id": "joFev2TdHiQg",
        "outputId": "e5ef1d69-ec61-4036-9c1f-578bd652073d"
      },
      "execution_count": 33,
      "outputs": [
        {
          "output_type": "stream",
          "name": "stdout",
          "text": [
            "the minimum value in the tuple :  9\n"
          ]
        }
      ]
    },
    {
      "cell_type": "code",
      "source": [
        "#take a string\n",
        "String_1 = \"Hello\"\n",
        "\n",
        "#convert the string into list of characters for tuple\n",
        "tuple1 = tuple(String_1)\n",
        "\n",
        "# print the list of character for tuple\n",
        "print(\" the tuple of characters : \",tuple1)"
      ],
      "metadata": {
        "colab": {
          "base_uri": "https://localhost:8080/"
        },
        "id": "VTIiopRyH64L",
        "outputId": "69bb3544-d9bb-4117-8c92-eb02a5951bc7"
      },
      "execution_count": 34,
      "outputs": [
        {
          "output_type": "stream",
          "name": "stdout",
          "text": [
            " the tuple of characters :  ('H', 'e', 'l', 'l', 'o')\n"
          ]
        }
      ]
    },
    {
      "cell_type": "code",
      "source": [
        "#take a tuple\n",
        "tuple1 = (\"hello\",\",\",\"nice\",\"to\",\"meet\",\"you\")\n",
        "\n",
        "#join the tuple of characters\n",
        "string_1 = ' '.join(tuple1)\n",
        "\n",
        "#print the string\n",
        "print(\"the string : \",string_1)"
      ],
      "metadata": {
        "colab": {
          "base_uri": "https://localhost:8080/"
        },
        "id": "D70MFI8vIa5N",
        "outputId": "f385e0a3-f68a-47b7-dae6-85499d9de9b7"
      },
      "execution_count": 35,
      "outputs": [
        {
          "output_type": "stream",
          "name": "stdout",
          "text": [
            "the string :  hello , nice to meet you\n"
          ]
        }
      ]
    },
    {
      "cell_type": "code",
      "source": [
        "#take a tuple\n",
        "tuple1 = (1, 'hello', 3.14, True, [1, 2, 3])\n",
        "\n",
        "#print the tuple\n",
        "print(\"the multiple datatype tuple : \",tuple1)"
      ],
      "metadata": {
        "colab": {
          "base_uri": "https://localhost:8080/"
        },
        "id": "3l0caqOrJQgj",
        "outputId": "184dc47e-9a9a-4bd6-c580-5a53d53cfdb3"
      },
      "execution_count": 36,
      "outputs": [
        {
          "output_type": "stream",
          "name": "stdout",
          "text": [
            "the multiple datatype tuple :  (1, 'hello', 3.14, True, [1, 2, 3])\n"
          ]
        }
      ]
    },
    {
      "cell_type": "code",
      "source": [
        "#take a tuple\n",
        "tuple1 = (1,2,3,4,5,6,7,8,9)\n",
        "\n",
        "#take a tuple\n",
        "tuple2 = (1,2,3,4,5,6,7,8,9)\n",
        "\n",
        "if tuple1 == tuple2 :\n",
        "  print(\"the tuples are identical\")\n",
        "\n",
        "else :\n",
        "  print(\"the tuples are not identical\")\n"
      ],
      "metadata": {
        "colab": {
          "base_uri": "https://localhost:8080/"
        },
        "id": "6amyOReqRY7Z",
        "outputId": "4a5ae736-7a22-4099-cd3e-14de4daca5e9"
      },
      "execution_count": 1,
      "outputs": [
        {
          "output_type": "stream",
          "name": "stdout",
          "text": [
            "the tuples are identical\n"
          ]
        }
      ]
    },
    {
      "cell_type": "code",
      "source": [
        "#take a tuple\n",
        "tuple1 = (6,2,4,8,9,1,3,4)\n",
        "\n",
        "s_tuple = tuple(sorted(tuple1))\n",
        "\n",
        "print(\"the sorted tuple : \",s_tuple)"
      ],
      "metadata": {
        "colab": {
          "base_uri": "https://localhost:8080/"
        },
        "id": "K4D207kaR0jS",
        "outputId": "afbf18e2-418e-449b-bc84-f767e7c52baf"
      },
      "execution_count": 2,
      "outputs": [
        {
          "output_type": "stream",
          "name": "stdout",
          "text": [
            "the sorted tuple :  (1, 2, 3, 4, 4, 6, 8, 9)\n"
          ]
        }
      ]
    },
    {
      "cell_type": "code",
      "source": [
        "#take a tuple\n",
        "tuple1 = (6,2,4,8,9,1,3,4)\n",
        "\n",
        "# convert the integers into list of strings\n",
        "tuple2 = tuple(map(str , tuple1))\n",
        "\n",
        "#print the list of strings\n",
        "print(\"the tuple of strings : \",tuple2)"
      ],
      "metadata": {
        "colab": {
          "base_uri": "https://localhost:8080/"
        },
        "id": "0RNtGYNMScrh",
        "outputId": "23a0c42e-35c1-41d6-cf22-48027bacf88f"
      },
      "execution_count": 3,
      "outputs": [
        {
          "output_type": "stream",
          "name": "stdout",
          "text": [
            "the tuple of strings :  ('6', '2', '4', '8', '9', '1', '3', '4')\n"
          ]
        }
      ]
    },
    {
      "cell_type": "code",
      "source": [
        "#take a tuple\n",
        "tuple1 =  ('6', '2', '4', '8', '9', '1', '3', '4')\n",
        "\n",
        "#convert the list of strings to integers\n",
        "tuple2 = tuple(map(int,tuple1))\n",
        "\n",
        "#print the list of integers\n",
        "print(\"the tuple of integers : \",tuple2)\n"
      ],
      "metadata": {
        "colab": {
          "base_uri": "https://localhost:8080/"
        },
        "id": "eOxXQTEYUJdL",
        "outputId": "11632b17-a6e0-48e6-a6f8-606d2ac925f6"
      },
      "execution_count": 4,
      "outputs": [
        {
          "output_type": "stream",
          "name": "stdout",
          "text": [
            "the tuple of integers :  (6, 2, 4, 8, 9, 1, 3, 4)\n"
          ]
        }
      ]
    },
    {
      "cell_type": "code",
      "source": [
        "# take 2 tuples\n",
        "tuple1 = (1, 2, 3)\n",
        "tuple2 = ('a', 'b', 'c')\n",
        "\n",
        "# Merge two tuples\n",
        "m_tuple = tuple1 + tuple2\n",
        "\n",
        "#print the merged tuple\n",
        "print(\"Merged Tuple:\", m_tuple)\n"
      ],
      "metadata": {
        "colab": {
          "base_uri": "https://localhost:8080/"
        },
        "id": "lYwg6uy8V8St",
        "outputId": "e3a33fb6-a193-4cbe-cc54-4bc37ab13554"
      },
      "execution_count": 5,
      "outputs": [
        {
          "output_type": "stream",
          "name": "stdout",
          "text": [
            "Merged Tuple: (1, 2, 3, 'a', 'b', 'c')\n"
          ]
        }
      ]
    },
    {
      "cell_type": "code",
      "source": [
        "# take a tuple\n",
        "tuple1 = ((1, 2, 3), ('a', 'b', 'c'), (True, False))\n",
        "\n",
        "# take a empty list\n",
        "flat_list = []\n",
        "\n",
        "# find the subtuples in tuple\n",
        "for subtuple in tuple1:\n",
        "\n",
        "# find items in the subtuples\n",
        "  for item in subtuple:\n",
        "\n",
        "    flat_list.append(item)\n",
        "\n",
        "flat_tuple = tuple(flat_list)\n",
        "\n",
        "#print the flattened nested tuple\n",
        "print(\" the flattened nested tuple : \",flat_tuple)\n",
        "\n"
      ],
      "metadata": {
        "colab": {
          "base_uri": "https://localhost:8080/"
        },
        "id": "32BuIXlAW5z2",
        "outputId": "6902bd3a-0d61-4ff0-bbdb-32fc7f390372"
      },
      "execution_count": 6,
      "outputs": [
        {
          "output_type": "stream",
          "name": "stdout",
          "text": [
            " the flattened nested tuple :  (1, 2, 3, 'a', 'b', 'c', True, False)\n"
          ]
        }
      ]
    },
    {
      "cell_type": "code",
      "source": [
        "# create a function to find the prime numbers\n",
        "def is_prime(num):\n",
        "\n",
        "  if num < 2 :\n",
        "\n",
        "    return False\n",
        "\n",
        "  for i in range(2, int(num** 0.5) + 1):\n",
        "\n",
        "    if num % 2 == 0:\n",
        "      return False\n",
        "\n",
        "  return True\n",
        "\n",
        "# take a input for range\n",
        "n = int(input(\"enter a number : \"))\n",
        "\n",
        "p_tuple = tuple(num for num in range(2,n) if is_prime(num))\n",
        "\n",
        "# print the prime numbers\n",
        "print(\"the first 5 prime numbers : \",p_tuple)\n"
      ],
      "metadata": {
        "colab": {
          "base_uri": "https://localhost:8080/"
        },
        "id": "bKdhwuuRZFKQ",
        "outputId": "20c94f51-6467-431e-8c77-a4d1c2e6fe5b"
      },
      "execution_count": 7,
      "outputs": [
        {
          "output_type": "stream",
          "name": "stdout",
          "text": [
            "enter a number : 20\n",
            "the first 5 prime numbers :  (2, 3, 5, 7, 9, 11, 13, 15, 17, 19)\n"
          ]
        }
      ]
    },
    {
      "cell_type": "code",
      "source": [
        "# create a function to check if the tuple is palindrome or not\n",
        "def is_p(tuple1):\n",
        "\n",
        "  return tuple1 == tuple1[::-1]\n",
        "\n",
        "# take a tuple\n",
        "tuple1 = (1,2,3,4,3,2,1)\n",
        "\n",
        "result = is_p(tuple1)\n",
        "\n",
        "# print the result\n",
        "print(\" the tuple is palindrome :\",result)"
      ],
      "metadata": {
        "colab": {
          "base_uri": "https://localhost:8080/"
        },
        "id": "uDhDsbeuadz4",
        "outputId": "1d0cb5bf-cd38-4670-b668-0656a10bb95e"
      },
      "execution_count": 8,
      "outputs": [
        {
          "output_type": "stream",
          "name": "stdout",
          "text": [
            " the tuple is palindrome : True\n"
          ]
        }
      ]
    },
    {
      "cell_type": "code",
      "source": [
        "# find the squared numbers in range\n",
        "sq_tuple = tuple(x**2 for x in range(1,6))\n",
        "\n",
        "# print the squared number of tuples\n",
        "print(\" the tuple of squared numbers from 1 to 5 : \",sq_tuple)"
      ],
      "metadata": {
        "colab": {
          "base_uri": "https://localhost:8080/"
        },
        "id": "3_O2roEccK6-",
        "outputId": "3de798c0-38d9-40bb-d6e1-23fba48910f7"
      },
      "execution_count": 9,
      "outputs": [
        {
          "output_type": "stream",
          "name": "stdout",
          "text": [
            " the tuple of squared numbers from 1 to 5 :  (1, 4, 9, 16, 25)\n"
          ]
        }
      ]
    },
    {
      "cell_type": "code",
      "source": [
        "# take a tuple\n",
        "tuple1 = (1,2,3,4,5,6,7,8,9,10)\n",
        "\n",
        "fe_tuple = tuple(x for x in tuple1 if x % 2 != 0)\n",
        "\n",
        "# print the filtered list\n",
        "print(\" the tuple of odd numbers : \",fe_tuple)"
      ],
      "metadata": {
        "colab": {
          "base_uri": "https://localhost:8080/"
        },
        "id": "JpNseAtuc4jG",
        "outputId": "70c26f6b-e6b9-47e4-9c91-dae8890c1719"
      },
      "execution_count": 10,
      "outputs": [
        {
          "output_type": "stream",
          "name": "stdout",
          "text": [
            " the tuple of odd numbers :  (1, 3, 5, 7, 9)\n"
          ]
        }
      ]
    },
    {
      "cell_type": "code",
      "source": [
        "# take a tuple\n",
        "tuple1 = (1,2,3,4,5,6,7,8,9,10)\n",
        "\n",
        "m_tuple = tuple(x * 2 for x in tuple1)\n",
        "\n",
        "# print the multiplied tuple\n",
        "print(\" the multiplied tuple by 2 : \",m_tuple)"
      ],
      "metadata": {
        "colab": {
          "base_uri": "https://localhost:8080/"
        },
        "id": "2oD6owdPd12I",
        "outputId": "36b0e5b8-ca13-4ccd-a86a-18b29816a214"
      },
      "execution_count": 11,
      "outputs": [
        {
          "output_type": "stream",
          "name": "stdout",
          "text": [
            " the multiplied tuple by 2 :  (2, 4, 6, 8, 10, 12, 14, 16, 18, 20)\n"
          ]
        }
      ]
    },
    {
      "cell_type": "code",
      "source": [
        "import random\n",
        "\n",
        "r_tuple = tuple(random.randint(1,100) for _ in range(5))\n",
        "\n",
        "#print the list of random numbers\n",
        "print(\" random tuple : \",r_tuple)"
      ],
      "metadata": {
        "colab": {
          "base_uri": "https://localhost:8080/"
        },
        "id": "BnUpPh36eUFW",
        "outputId": "fcc3b90e-94f6-419d-bf84-a683f0194781"
      },
      "execution_count": 12,
      "outputs": [
        {
          "output_type": "stream",
          "name": "stdout",
          "text": [
            " random tuple :  (42, 48, 88, 28, 80)\n"
          ]
        }
      ]
    },
    {
      "cell_type": "code",
      "source": [
        "# take a tuple\n",
        "tuple1 = (1,2,3,4,5,6,7,8,9,10)\n",
        "\n",
        "tuple2 = tuple(set(tuple1))\n",
        "if tuple1 == tuple2 :\n",
        "  print(\" the tuple is sorted\")\n",
        "\n",
        "else:\n",
        "  print(\" the tuple is not sorted\")"
      ],
      "metadata": {
        "colab": {
          "base_uri": "https://localhost:8080/"
        },
        "id": "m_jTRcwue_Go",
        "outputId": "c972203f-9567-4f4e-9b92-c1181e074fca"
      },
      "execution_count": 13,
      "outputs": [
        {
          "output_type": "stream",
          "name": "stdout",
          "text": [
            " the tuple is sorted\n"
          ]
        }
      ]
    },
    {
      "cell_type": "code",
      "source": [
        "#create a function to rotate the elements\n",
        "def r_left(tuple1,n):\n",
        "\n",
        "  n = n % len(tuple1)\n",
        "\n",
        "  ro_tuple = tuple1[n:] + tuple1[:n]\n",
        "\n",
        "  return ro_tuple\n",
        "\n",
        "# take a tuple\n",
        "tuple1 = (1,2,3,4,5,6,7,8,9)\n",
        "\n",
        "rl_tuple = r_left(tuple1,3)\n",
        "\n",
        "# print the rotated tuple\n",
        "print(\"the rotated tuple : \",rl_tuple)"
      ],
      "metadata": {
        "colab": {
          "base_uri": "https://localhost:8080/"
        },
        "id": "9Eg_hsoffajp",
        "outputId": "3fc8166c-6013-476a-e0a6-110f7d0727a9"
      },
      "execution_count": 16,
      "outputs": [
        {
          "output_type": "stream",
          "name": "stdout",
          "text": [
            "the rotated tuple :  (4, 5, 6, 7, 8, 9, 1, 2, 3)\n"
          ]
        }
      ]
    },
    {
      "cell_type": "code",
      "source": [
        "#create a function to rotate the elements\n",
        "def r_left(tuple1,n):\n",
        "\n",
        "  n = n % len(tuple1)\n",
        "\n",
        "  ro_tuple = tuple1[-n:] + tuple1[:-n]\n",
        "\n",
        "  return ro_tuple\n",
        "\n",
        "# take a tuple\n",
        "tuple1 = (1,2,3,4,5,6,7,8,9)\n",
        "\n",
        "rl_tuple = r_left(tuple1,3)\n",
        "\n",
        "# print the rotated tuple\n",
        "print(\"the rotated tuple : \",rl_tuple)"
      ],
      "metadata": {
        "colab": {
          "base_uri": "https://localhost:8080/"
        },
        "id": "FfiZDdSfht9b",
        "outputId": "a61365f1-e9b2-4504-abcf-ea99630cb109"
      },
      "execution_count": 18,
      "outputs": [
        {
          "output_type": "stream",
          "name": "stdout",
          "text": [
            "the rotated tuple :  (7, 8, 9, 1, 2, 3, 4, 5, 6)\n"
          ]
        }
      ]
    },
    {
      "cell_type": "code",
      "source": [
        "# create a function to find fibonacci numbers\n",
        "def fibo_no(n):\n",
        "\n",
        "    fibo_sq = [0, 1]\n",
        "\n",
        "    while len(fibo_sq) < n:\n",
        "\n",
        "        nxt_fibo = fibo_sq[-1] + fibo_sq[-2]\n",
        "\n",
        "        fibo_sq.append(nxt_fibo)\n",
        "\n",
        "    return tuple(fibo_sq)\n",
        "\n",
        "fibo_tuple = fibo_no(5)\n",
        "\n",
        "# print the fibonacci numbers\n",
        "print(\"The first 5 Fibonacci numbers:\", fibo_tuple)\n"
      ],
      "metadata": {
        "colab": {
          "base_uri": "https://localhost:8080/"
        },
        "id": "UhXs6Xnxiyaf",
        "outputId": "1cbf5f5d-f790-4600-e11a-9fc40b564aaa"
      },
      "execution_count": 23,
      "outputs": [
        {
          "output_type": "stream",
          "name": "stdout",
          "text": [
            "The first 5 Fibonacci numbers: (0, 1, 1, 2, 3)\n"
          ]
        }
      ]
    },
    {
      "cell_type": "code",
      "source": [
        "# take a tuple as input\n",
        "tuple1 = tuple(input(\"enter the tuple :\"))\n",
        "\n",
        "#print the tuple\n",
        "print(\"the tuple : \",tuple1)"
      ],
      "metadata": {
        "colab": {
          "base_uri": "https://localhost:8080/"
        },
        "id": "AmVA3AMVkbqx",
        "outputId": "d9a579d6-5af5-4ac0-8a35-392fe42588e4"
      },
      "execution_count": 25,
      "outputs": [
        {
          "output_type": "stream",
          "name": "stdout",
          "text": [
            "enter the tuple :123456789\n",
            "the tuple :  ('1', '2', '3', '4', '5', '6', '7', '8', '9')\n"
          ]
        }
      ]
    },
    {
      "cell_type": "code",
      "source": [
        "# create a function to swap elements\n",
        "def swap_e( tuple1 , index1 , index2 ):\n",
        "\n",
        "  tuple_m = list(tuple1)\n",
        "\n",
        "  tuple_m[index1], tuple_m[index2] = tuple_m[index2],tuple_m[index1]\n",
        "\n",
        "  tuple_s = tuple(tuple_m)\n",
        "\n",
        "  return tuple_s\n",
        "\n",
        "#take a tuple\n",
        "tuple1 = (1,2,3,4,5,6,7)\n",
        "\n",
        "swp_tuple = swap_e(tuple1,1,4)\n",
        "\n",
        "# print the tuple after swapping\n",
        "print(\" the tuple after awapping : \",swp_tuple)"
      ],
      "metadata": {
        "colab": {
          "base_uri": "https://localhost:8080/"
        },
        "id": "ANYWLqdWk6-_",
        "outputId": "969d530f-cea8-47bc-b856-1f68c06afff5"
      },
      "execution_count": 26,
      "outputs": [
        {
          "output_type": "stream",
          "name": "stdout",
          "text": [
            " the tuple after awapping :  (1, 5, 3, 4, 2, 6, 7)\n"
          ]
        }
      ]
    },
    {
      "cell_type": "code",
      "source": [
        "#take a tuple\n",
        "tuple1 = (1,2,3,4,5,6,7)\n",
        "\n",
        "r_tuple = tuple1[::-1]\n",
        "\n",
        "#print the reversed tuple\n",
        "print(\" the reversed tuple : \",r_tuple)"
      ],
      "metadata": {
        "colab": {
          "base_uri": "https://localhost:8080/"
        },
        "id": "SnreAkClnGjz",
        "outputId": "c7037451-9d97-4f6f-b2b1-8494b2396870"
      },
      "execution_count": 27,
      "outputs": [
        {
          "output_type": "stream",
          "name": "stdout",
          "text": [
            " the reversed tuple :  (7, 6, 5, 4, 3, 2, 1)\n"
          ]
        }
      ]
    },
    {
      "cell_type": "code",
      "source": [
        "n = 8\n",
        "\n",
        "p_tuple = tuple(x**2 for x in range(1,n))\n",
        "\n",
        "#print the tuple\n",
        "print(\"the tuple of 'n' power of 2 : \",p_tuple)"
      ],
      "metadata": {
        "colab": {
          "base_uri": "https://localhost:8080/"
        },
        "id": "5WH_X3cVnaKt",
        "outputId": "b39a6ad6-cc4e-4fe1-d60a-676461a6b7c4"
      },
      "execution_count": 31,
      "outputs": [
        {
          "output_type": "stream",
          "name": "stdout",
          "text": [
            "the tuple of 'n' power of 2 :  (1, 4, 9, 16, 25, 36, 49)\n"
          ]
        }
      ]
    },
    {
      "cell_type": "code",
      "source": [
        "#take a tuple\n",
        "tuple1 = ('apple', 'banana', 'kiwi', 'strawberry', 'orange')\n",
        "\n",
        "l_string = max(tuple1,key=len)\n",
        "\n",
        "#print the longest string\n",
        "print(\" the longest string in tuple : \",l_string)\n"
      ],
      "metadata": {
        "colab": {
          "base_uri": "https://localhost:8080/"
        },
        "id": "LipNQm8dokSD",
        "outputId": "f9158114-3221-44bf-cb0e-b8770044c7ff"
      },
      "execution_count": 32,
      "outputs": [
        {
          "output_type": "stream",
          "name": "stdout",
          "text": [
            " the longest string in tuple :  strawberry\n"
          ]
        }
      ]
    },
    {
      "cell_type": "code",
      "source": [
        "#take a tuple\n",
        "tuple1 = ('apple', 'banana', 'kiwi', 'strawberry', 'orange')\n",
        "\n",
        "s_string = min(tuple1,key=len)\n",
        "\n",
        "#print the shortest string\n",
        "print(\" the shortest string in tuple : \",s_string)\n"
      ],
      "metadata": {
        "colab": {
          "base_uri": "https://localhost:8080/"
        },
        "id": "sSEqgSXApYV_",
        "outputId": "90e8318c-ab79-4320-a055-9393697fb478"
      },
      "execution_count": 33,
      "outputs": [
        {
          "output_type": "stream",
          "name": "stdout",
          "text": [
            " the shortest string in tuple :  kiwi\n"
          ]
        }
      ]
    },
    {
      "cell_type": "code",
      "source": [
        "# create a function to find the triangular numbers\n",
        "def tri_no(n):\n",
        "\n",
        "    tri_tuple = tuple((i * (i + 1)) // 2 for i in range(n))\n",
        "\n",
        "    return tri_tuple\n",
        "\n",
        "n = 5\n",
        "t_tuple = tri_no(n)\n",
        "\n",
        "#print the tuple\n",
        "print(f\"Tuple of the first {n} triangular numbers:\", t_tuple)\n"
      ],
      "metadata": {
        "colab": {
          "base_uri": "https://localhost:8080/"
        },
        "id": "vkFo4VeoqF3l",
        "outputId": "86c293e0-b457-4a00-ab88-a3828b144e2a"
      },
      "execution_count": 35,
      "outputs": [
        {
          "output_type": "stream",
          "name": "stdout",
          "text": [
            "Tuple of the first 5 triangular numbers: (0, 1, 3, 6, 10)\n"
          ]
        }
      ]
    },
    {
      "cell_type": "code",
      "source": [
        "def is_subsequence(sub, main):\n",
        "\n",
        "    # Find the index of the first element of sub in main\n",
        "    try:\n",
        "        start_index = main.index(sub[0])\n",
        "\n",
        "    except ValueError:\n",
        "\n",
        "        return False\n",
        "\n",
        "    # Check if the subsequence is present in main\n",
        "    return main[start_index:start_index + len(sub)] == sub\n",
        "\n",
        "# take main and sub tuple\n",
        "main_tuple = (1, 2, 3, 4, 5, 6, 7, 8, 9, 10)\n",
        "sub_tuple = (3, 4, 5)\n",
        "\n",
        "# Check if sub_tuple is a subsequence of main_tuple\n",
        "result = is_subsequence(sub_tuple, main_tuple)\n",
        "\n",
        "#print the result\n",
        "print(\" the tuple is subsequence:\", result)\n"
      ],
      "metadata": {
        "colab": {
          "base_uri": "https://localhost:8080/"
        },
        "id": "X-RRx1npq9JF",
        "outputId": "d0fb2262-e542-4f9e-fff5-48561c21f66d"
      },
      "execution_count": 36,
      "outputs": [
        {
          "output_type": "stream",
          "name": "stdout",
          "text": [
            " the tuple is subsequence: True\n"
          ]
        }
      ]
    },
    {
      "cell_type": "code",
      "source": [
        "#create a function\n",
        "def alt_ones_zeros(n):\n",
        "\n",
        "    altr_tuple = tuple(1 if i % 2 == 0 else 0 for i in range(n))\n",
        "\n",
        "    return altr_tuple\n",
        "\n",
        "n = 8\n",
        "\n",
        "a_tuple = alt_ones_zeros(n)\n",
        "\n",
        "print(f\"the tuple of alternating 1s and 0s of length {n}:\", a_tuple)\n"
      ],
      "metadata": {
        "colab": {
          "base_uri": "https://localhost:8080/"
        },
        "id": "HuO4ycWerObN",
        "outputId": "089a4973-d656-4137-9609-48c973149587"
      },
      "execution_count": 38,
      "outputs": [
        {
          "output_type": "stream",
          "name": "stdout",
          "text": [
            "the tuple of alternating 1s and 0s of length 8: (1, 0, 1, 0, 1, 0, 1, 0)\n"
          ]
        }
      ]
    }
  ]
}
