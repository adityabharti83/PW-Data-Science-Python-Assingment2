{
  "nbformat": 4,
  "nbformat_minor": 0,
  "metadata": {
    "colab": {
      "provenance": []
    },
    "kernelspec": {
      "name": "python3",
      "display_name": "Python 3"
    },
    "language_info": {
      "name": "python"
    }
  },
  "cells": [
    {
      "cell_type": "markdown",
      "source": [
        "Set Programs\n"
      ],
      "metadata": {
        "id": "mWD3MDWafLhX"
      }
    },
    {
      "cell_type": "code",
      "execution_count": 2,
      "metadata": {
        "colab": {
          "base_uri": "https://localhost:8080/"
        },
        "id": "nKTIcR31ebDD",
        "outputId": "a378dad2-9c81-4a34-d274-3346bf2b1d77"
      },
      "outputs": [
        {
          "output_type": "stream",
          "name": "stdout",
          "text": [
            " the set :  {1, 2, 3, 4, 5}\n"
          ]
        }
      ],
      "source": [
        "#take a set\n",
        "set1 = { 1,2,3,4,5}\n",
        "\n",
        "#print the set\n",
        "print(\" the set : \",set1)"
      ]
    },
    {
      "cell_type": "code",
      "source": [
        "#take a set\n",
        "set1 = { 1,2,3,4,5}\n",
        "\n",
        "# add an element to list\n",
        "set1.add(6)\n",
        "\n",
        "# print the modified list\n",
        "print(\" the modified set : \",set1)\n"
      ],
      "metadata": {
        "colab": {
          "base_uri": "https://localhost:8080/"
        },
        "id": "HcnMnD0EifjS",
        "outputId": "49605420-1b43-4b14-d37b-1b9bfbc713cf"
      },
      "execution_count": 3,
      "outputs": [
        {
          "output_type": "stream",
          "name": "stdout",
          "text": [
            " the modified set :  {1, 2, 3, 4, 5, 6}\n"
          ]
        }
      ]
    },
    {
      "cell_type": "code",
      "source": [
        "#take a set\n",
        "set1 = { 1,2,3,4,5}\n",
        "\n",
        "# delete an element to list\n",
        "set1.remove(5)\n",
        "\n",
        "# print the modified list\n",
        "print(\" the modified set : \",set1)\n"
      ],
      "metadata": {
        "colab": {
          "base_uri": "https://localhost:8080/"
        },
        "id": "WT3J2iOBix2_",
        "outputId": "4933f12a-671b-4972-defc-4bfd8c0541f5"
      },
      "execution_count": 4,
      "outputs": [
        {
          "output_type": "stream",
          "name": "stdout",
          "text": [
            " the modified set :  {1, 2, 3, 4}\n"
          ]
        }
      ]
    },
    {
      "cell_type": "code",
      "source": [
        "#take a set\n",
        "set1 = { 1,2,3,4,5}\n",
        "\n",
        "#element to check\n",
        "ele_check = 4\n",
        "\n",
        "if ele_check in set1 :\n",
        "\n",
        "  print(\" the element is present in list\")\n",
        "\n",
        "else :\n",
        "\n",
        "  print(\" the element is not present in list\")"
      ],
      "metadata": {
        "colab": {
          "base_uri": "https://localhost:8080/"
        },
        "id": "WMesNgHkjMol",
        "outputId": "787d812d-a9fc-47a9-befd-f6aded78a58d"
      },
      "execution_count": 5,
      "outputs": [
        {
          "output_type": "stream",
          "name": "stdout",
          "text": [
            " the element is present in list\n"
          ]
        }
      ]
    },
    {
      "cell_type": "code",
      "source": [
        "#take a set\n",
        "set1 = { 1,2,3,4,5}\n",
        "\n",
        "#count the length of set\n",
        "set_len = 0\n",
        "\n",
        "for _ in set1 :\n",
        "\n",
        "  set_len += 1\n",
        "\n",
        "print(\" the length of set is : \",set_len)"
      ],
      "metadata": {
        "colab": {
          "base_uri": "https://localhost:8080/"
        },
        "id": "nFfGBgRekVOY",
        "outputId": "22602784-ea4d-4ec2-86ed-9122d5df96b2"
      },
      "execution_count": 6,
      "outputs": [
        {
          "output_type": "stream",
          "name": "stdout",
          "text": [
            " the length of set is :  5\n"
          ]
        }
      ]
    },
    {
      "cell_type": "code",
      "source": [
        "#take a set\n",
        "set1 = { 1,2,3,4,5}\n",
        "\n",
        "#clear the set\n",
        "set1.clear()\n",
        "\n",
        "# print the cleared set\n",
        "print(\" the cleared set : \",set1)"
      ],
      "metadata": {
        "colab": {
          "base_uri": "https://localhost:8080/"
        },
        "id": "bM6aTmNekzrj",
        "outputId": "004bedd7-ee37-4c2b-f73b-a6b53500b9cc"
      },
      "execution_count": 7,
      "outputs": [
        {
          "output_type": "stream",
          "name": "stdout",
          "text": [
            " the cleared set :  set()\n"
          ]
        }
      ]
    },
    {
      "cell_type": "code",
      "source": [
        "# take a set and find the even numbers in range\n",
        "set1 = {x for x in range(1,11) if x % 2 == 0}\n",
        "\n",
        "# print the set containing even numbers\n",
        "print(\"the set containing even numbers : \",set1)"
      ],
      "metadata": {
        "colab": {
          "base_uri": "https://localhost:8080/"
        },
        "id": "A7WlmrBelLYz",
        "outputId": "7e6ffd3c-8a5d-4868-db8d-9aa0b55a90e3"
      },
      "execution_count": 11,
      "outputs": [
        {
          "output_type": "stream",
          "name": "stdout",
          "text": [
            "the set containing even numbers :  {2, 4, 6, 8, 10}\n"
          ]
        }
      ]
    },
    {
      "cell_type": "code",
      "source": [
        "# take a set and find the odd numbers in range\n",
        "set1 = {x for x in range(1,10) if x % 2 != 0}\n",
        "\n",
        "# print the set containing odd numbers\n",
        "print(\"the set containing odd numbers : \",set1)"
      ],
      "metadata": {
        "colab": {
          "base_uri": "https://localhost:8080/"
        },
        "id": "_AvhW4wgmlru",
        "outputId": "c80245b9-e519-4fef-a51f-6c35bf446bb0"
      },
      "execution_count": 12,
      "outputs": [
        {
          "output_type": "stream",
          "name": "stdout",
          "text": [
            "the set containing odd numbers :  {1, 3, 5, 7, 9}\n"
          ]
        }
      ]
    },
    {
      "cell_type": "code",
      "source": [
        "# take 2 sets\n",
        "set1 = {1, 2, 3, 4, 5}\n",
        "set2 = {3, 4, 5, 6, 7}\n",
        "\n",
        "#union the both sets\n",
        "u_set = set1.union(set2)\n",
        "\n",
        "#print the union set\n",
        "print(\" the union set : \",u_set)"
      ],
      "metadata": {
        "colab": {
          "base_uri": "https://localhost:8080/"
        },
        "id": "K3w3gUVJmvJm",
        "outputId": "ee7429e6-e1a3-405c-dd7d-23f62e0d3890"
      },
      "execution_count": 13,
      "outputs": [
        {
          "output_type": "stream",
          "name": "stdout",
          "text": [
            " the union set :  {1, 2, 3, 4, 5, 6, 7}\n"
          ]
        }
      ]
    },
    {
      "cell_type": "code",
      "source": [
        "# take 2 sets\n",
        "set1 = {1, 2, 3, 4, 5}\n",
        "set2 = {3, 4, 5, 6, 7}\n",
        "\n",
        "#find the intersection of the both sets\n",
        "in_set = set1.intersection(set2)\n",
        "\n",
        "#print the intersection set\n",
        "print(\" the intersection set : \",in_set)"
      ],
      "metadata": {
        "colab": {
          "base_uri": "https://localhost:8080/"
        },
        "id": "SoDKMP7NnRVV",
        "outputId": "b0c529e6-135c-45b1-dcc8-4d5f8f0f6220"
      },
      "execution_count": 14,
      "outputs": [
        {
          "output_type": "stream",
          "name": "stdout",
          "text": [
            " the intersection set :  {3, 4, 5}\n"
          ]
        }
      ]
    },
    {
      "cell_type": "code",
      "source": [
        "# take 2 sets\n",
        "set1 = {1, 2, 3, 4, 5}\n",
        "set2 = {3, 4, 5, 6, 7}\n",
        "\n",
        "#difference between the both sets\n",
        "u_set = set1.difference(set2)\n",
        "\n",
        "#print the diffrence between the set\n",
        "print(\" the difference between the set : \",u_set)"
      ],
      "metadata": {
        "colab": {
          "base_uri": "https://localhost:8080/"
        },
        "id": "xM0WfsYjnuTp",
        "outputId": "85cb8314-091f-4e18-c97f-3450768c406e"
      },
      "execution_count": 16,
      "outputs": [
        {
          "output_type": "stream",
          "name": "stdout",
          "text": [
            " the difference between the set :  {1, 2}\n"
          ]
        }
      ]
    },
    {
      "cell_type": "code",
      "source": [
        "#take 2 sets\n",
        "set1 = {1, 2, 3, 4, 5}\n",
        "set2 = {3, 4, 5}\n",
        "\n",
        "#check if set2 is subset of set1\n",
        "result = set2.issubset(set1)\n",
        "\n",
        "#print result\n",
        "print(\" the set2 is subset of set1 : \",result)"
      ],
      "metadata": {
        "colab": {
          "base_uri": "https://localhost:8080/"
        },
        "id": "7kfcFeZSn9yB",
        "outputId": "9bab88f0-a863-43eb-d4fe-a618ba90ee0a"
      },
      "execution_count": 17,
      "outputs": [
        {
          "output_type": "stream",
          "name": "stdout",
          "text": [
            " the set2 is subset of set1 :  True\n"
          ]
        }
      ]
    },
    {
      "cell_type": "code",
      "source": [
        "#take 2 sets\n",
        "set1 = {1, 2, 3, 4, 5}\n",
        "set2 = {3, 4, 5}\n",
        "\n",
        "#check if set1 is superset of set2\n",
        "result = set1.issuperset(set2)\n",
        "\n",
        "#print result\n",
        "print(\" the set1 is superset of set2 : \",result)"
      ],
      "metadata": {
        "colab": {
          "base_uri": "https://localhost:8080/"
        },
        "id": "zpUyt7a7rIqF",
        "outputId": "684a9e01-e586-4667-9d15-ff057bb94597"
      },
      "execution_count": 19,
      "outputs": [
        {
          "output_type": "stream",
          "name": "stdout",
          "text": [
            " the set1 is superset of set2 :  True\n"
          ]
        }
      ]
    },
    {
      "cell_type": "code",
      "source": [
        "#take a list\n",
        "list1 = [1,2,3,4,5,6,7]\n",
        "\n",
        "#convert a list to a set\n",
        "set1 = set(list1)\n",
        "\n",
        "#print set\n",
        "print(\" the set : \",set1)"
      ],
      "metadata": {
        "colab": {
          "base_uri": "https://localhost:8080/"
        },
        "id": "ooTEf6J0rWlS",
        "outputId": "663cd954-5ce2-4453-9b54-cfcaf78576a8"
      },
      "execution_count": 20,
      "outputs": [
        {
          "output_type": "stream",
          "name": "stdout",
          "text": [
            " the set :  {1, 2, 3, 4, 5, 6, 7}\n"
          ]
        }
      ]
    },
    {
      "cell_type": "code",
      "source": [
        "#take a set\n",
        "set1 = {1,2,3,4,5,6,7}\n",
        "\n",
        "#covert set to list\n",
        "list1 = list(set1)\n",
        "\n",
        "#print the list\n",
        "print(\" the list : \",list1)"
      ],
      "metadata": {
        "colab": {
          "base_uri": "https://localhost:8080/"
        },
        "id": "zfpo_WN3rs7D",
        "outputId": "0c5192c8-d931-47cd-df90-21df7cdfe787"
      },
      "execution_count": 21,
      "outputs": [
        {
          "output_type": "stream",
          "name": "stdout",
          "text": [
            " the list :  [1, 2, 3, 4, 5, 6, 7]\n"
          ]
        }
      ]
    },
    {
      "cell_type": "code",
      "source": [
        "#take a set\n",
        "set1 = {1,2,3,4,5,6,7}\n",
        "\n",
        "#remove an element from the set\n",
        "r_ele = set1.pop()\n",
        "\n",
        "#print the modified list\n",
        "print(\" the set after removing a random element : \",set1)"
      ],
      "metadata": {
        "colab": {
          "base_uri": "https://localhost:8080/"
        },
        "id": "k1eiv_bDr7dv",
        "outputId": "38492be4-9df4-4505-ba19-c40e6aa5c407"
      },
      "execution_count": 23,
      "outputs": [
        {
          "output_type": "stream",
          "name": "stdout",
          "text": [
            " the set after removing a random element :  {2, 3, 4, 5, 6, 7}\n"
          ]
        }
      ]
    },
    {
      "cell_type": "code",
      "source": [
        "#take a list\n",
        "set1 = {1,2,3,4,5,6,7}\n",
        "\n",
        "#remove an element from the set\n",
        "r_ele = set1.pop()\n",
        "\n",
        "#print the modified list\n",
        "print(\" the set after removing a random element : \",set1)"
      ],
      "metadata": {
        "colab": {
          "base_uri": "https://localhost:8080/"
        },
        "id": "b8jkBq1otaaP",
        "outputId": "b6997274-21a7-47d1-bca4-415bb4f70096"
      },
      "execution_count": 25,
      "outputs": [
        {
          "output_type": "stream",
          "name": "stdout",
          "text": [
            " the set after removing a random element :  {2, 3, 4, 5, 6, 7}\n"
          ]
        }
      ]
    },
    {
      "cell_type": "code",
      "source": [
        "#take 2 sets\n",
        "set1 = { 1 , 2 , 3 }\n",
        "set2 = { 4 , 5 , 6 }\n",
        "\n",
        "#check if sets have common elements\n",
        "result = set1.isdisjoint(set2)\n",
        "\n",
        "#print result\n",
        "if result:\n",
        "  print(\"the sets have no common element\")\n",
        "\n",
        "else:\n",
        "  print(\"the sets have  common elements\")\n"
      ],
      "metadata": {
        "colab": {
          "base_uri": "https://localhost:8080/"
        },
        "id": "ypJrh0M4t7CM",
        "outputId": "1ea99979-5dbd-470e-a3d6-74e6799c7c37"
      },
      "execution_count": 26,
      "outputs": [
        {
          "output_type": "stream",
          "name": "stdout",
          "text": [
            "the sets have no common element\n"
          ]
        }
      ]
    },
    {
      "cell_type": "code",
      "source": [
        "# take 2 sets\n",
        "set1 = {1, 2, 3, 4, 5}\n",
        "set2 = {3, 4, 5, 6, 7}\n",
        "\n",
        "#find the symmmetric diffrence\n",
        "sym_set = set1.symmetric_difference(set2)\n",
        "\n",
        "print(\" the symmetric difference between set1 and set2 : \",sym_set)"
      ],
      "metadata": {
        "colab": {
          "base_uri": "https://localhost:8080/"
        },
        "id": "LOfstB5ZukTy",
        "outputId": "7cd4a888-fb23-4b10-9b14-0c440d11d947"
      },
      "execution_count": 28,
      "outputs": [
        {
          "output_type": "stream",
          "name": "stdout",
          "text": [
            " the symmetric difference between set1 and set2 :  {1, 2, 6, 7}\n"
          ]
        }
      ]
    },
    {
      "cell_type": "code",
      "source": [
        "# take 2 sets\n",
        "set1 = {1, 2, 3, 4, 5}\n",
        "set2 = {3, 4, 5, 6, 7}\n",
        "\n",
        "#find the symmmetric diffrence\n",
        "set1.update(set2)\n",
        "\n",
        "print(\" the updated set: \",set1)"
      ],
      "metadata": {
        "colab": {
          "base_uri": "https://localhost:8080/"
        },
        "id": "ui1mPBwxwQf_",
        "outputId": "6521a1cd-5772-4965-c2ef-44365bfd46be"
      },
      "execution_count": 29,
      "outputs": [
        {
          "output_type": "stream",
          "name": "stdout",
          "text": [
            " the updated set:  {1, 2, 3, 4, 5, 6, 7}\n"
          ]
        }
      ]
    },
    {
      "cell_type": "code",
      "source": [
        "#create a function to find prime numbers\n",
        "def is_prime(n):\n",
        "\n",
        "    primes = set()\n",
        "\n",
        "    num = 2\n",
        "\n",
        "    while len(primes) < n:\n",
        "\n",
        "        for i in range(2, int(num ** 0.5) + 1):\n",
        "\n",
        "            if num % i == 0:\n",
        "                break\n",
        "\n",
        "        else:\n",
        "            primes.add(num)\n",
        "        num += 1\n",
        "\n",
        "    return primes\n",
        "\n",
        "prime_set = is_prime(5)\n",
        "\n",
        "#print the first 5 prime numbers\n",
        "print(\"The first 5 prime numbers:\", prime_set)\n"
      ],
      "metadata": {
        "colab": {
          "base_uri": "https://localhost:8080/"
        },
        "id": "qb8Gb1d_wizg",
        "outputId": "bb73bf76-edef-4d7a-c9ba-eebb6dbf46fa"
      },
      "execution_count": 32,
      "outputs": [
        {
          "output_type": "stream",
          "name": "stdout",
          "text": [
            "The first 5 prime numbers: {2, 3, 5, 7, 11}\n"
          ]
        }
      ]
    },
    {
      "cell_type": "code",
      "source": [
        "# take 2 sets\n",
        "set1 = {1, 2, 3, 4, 5}\n",
        "set2 = {3, 4, 5, 6, 7}\n",
        "\n",
        "if set1 == set2 :\n",
        "\n",
        "  print(\" the sets are identical\")\n",
        "\n",
        "else:\n",
        "\n",
        "  print(\" the sets are not identical\")"
      ],
      "metadata": {
        "colab": {
          "base_uri": "https://localhost:8080/"
        },
        "id": "2HirfcST0SqL",
        "outputId": "0cb50d25-a3f8-452c-b4e9-ab7712b756a3"
      },
      "execution_count": 33,
      "outputs": [
        {
          "output_type": "stream",
          "name": "stdout",
          "text": [
            " the sets are not identical\n"
          ]
        }
      ]
    },
    {
      "cell_type": "code",
      "source": [
        "# take a sets\n",
        "set1 = {1, 2, 3, 4, 5}\n",
        "\n",
        "f_set = frozenset(set1)\n",
        "\n",
        "#print the frozen set\n",
        "print(\" the frozen set : \",f_set)"
      ],
      "metadata": {
        "colab": {
          "base_uri": "https://localhost:8080/"
        },
        "id": "-43wUT8P0q7E",
        "outputId": "098491cf-4bcd-49e1-aeaa-42dd60bdfaff"
      },
      "execution_count": 34,
      "outputs": [
        {
          "output_type": "stream",
          "name": "stdout",
          "text": [
            " the frozen set :  frozenset({1, 2, 3, 4, 5})\n"
          ]
        }
      ]
    },
    {
      "cell_type": "code",
      "source": [
        "#take 2 sets\n",
        "set1 = { 1 , 2 , 3 }\n",
        "set2 = { 4 , 5 , 6 }\n",
        "\n",
        "#check if sets are disjoint\n",
        "result = set1.isdisjoint(set2)\n",
        "\n",
        "if result :\n",
        "\n",
        "  print(\" the sets are disjoint\")\n",
        "\n",
        "else:\n",
        "\n",
        "  print(\" the sets are not disjoint\")"
      ],
      "metadata": {
        "colab": {
          "base_uri": "https://localhost:8080/"
        },
        "id": "tw-DHWmm06PM",
        "outputId": "fb2bf640-33da-4133-e91a-e683e520e562"
      },
      "execution_count": 35,
      "outputs": [
        {
          "output_type": "stream",
          "name": "stdout",
          "text": [
            " the sets are disjoint\n"
          ]
        }
      ]
    },
    {
      "cell_type": "code",
      "source": [
        "#square the set\n",
        "sq_set = { x**2 for x in range(1,6)}\n",
        "\n",
        "#print the squared set\n",
        "print(\" the squared set : \",sq_set)"
      ],
      "metadata": {
        "colab": {
          "base_uri": "https://localhost:8080/"
        },
        "id": "M2-JPCFm1eJU",
        "outputId": "99ba2749-dd7d-491f-a063-1716d017c845"
      },
      "execution_count": 37,
      "outputs": [
        {
          "output_type": "stream",
          "name": "stdout",
          "text": [
            " the squared set :  {1, 4, 9, 16, 25}\n"
          ]
        }
      ]
    },
    {
      "cell_type": "code",
      "source": [
        "#take a set\n",
        "set1 = {1,2,3,4,5,6,7}\n",
        "\n",
        "#filter the even numbers\n",
        "odd_set = { num for num in set1 if num % 2 == 0}\n",
        "\n",
        "#print the filtered set\n",
        "print(\" the odd numbers set : \",odd_set)\n"
      ],
      "metadata": {
        "colab": {
          "base_uri": "https://localhost:8080/"
        },
        "id": "DYGU5lvS1vPK",
        "outputId": "71a34c25-bffc-429c-9b13-bcc37b15acfe"
      },
      "execution_count": 1,
      "outputs": [
        {
          "output_type": "stream",
          "name": "stdout",
          "text": [
            " the odd numbers set :  {2, 4, 6}\n"
          ]
        }
      ]
    },
    {
      "cell_type": "code",
      "source": [
        "#take a set\n",
        "set1 = {1,2,3,4,5,6,7}\n",
        "\n",
        "#multiply all elements of set by 2\n",
        "mul_set = { num*2 for num in set1}\n",
        "\n",
        "#print the set\n",
        "print(\" the set after multiplying by 2 : \",mul_set)"
      ],
      "metadata": {
        "colab": {
          "base_uri": "https://localhost:8080/"
        },
        "id": "kiaRkqROX-xQ",
        "outputId": "7b639fcc-d632-46f5-b796-ce5159b54086"
      },
      "execution_count": 3,
      "outputs": [
        {
          "output_type": "stream",
          "name": "stdout",
          "text": [
            " the set after multiplying by 2 :  {2, 4, 6, 8, 10, 12, 14}\n"
          ]
        }
      ]
    },
    {
      "cell_type": "code",
      "source": [
        "#import random module\n",
        "import random\n",
        "\n",
        "#create a set of random mumber\n",
        "r_set = { random.randint(1,50) for _ in range(5)}\n",
        "\n",
        "#print the set\n",
        "print(\" the random set : \",r_set)"
      ],
      "metadata": {
        "colab": {
          "base_uri": "https://localhost:8080/"
        },
        "id": "HmTCLSiaYfyW",
        "outputId": "42140a27-6b5d-4f9f-a609-da1cb41e0e1f"
      },
      "execution_count": 4,
      "outputs": [
        {
          "output_type": "stream",
          "name": "stdout",
          "text": [
            " the random set :  {1, 3, 37, 43, 46}\n"
          ]
        }
      ]
    },
    {
      "cell_type": "code",
      "source": [
        "#take a set\n",
        "set1 = {1,2,3,4,5,6,7}\n",
        "\n",
        "#check if the set is empty or not\n",
        "if len(set1) == 0 :\n",
        "\n",
        "  print(\" the set is empty\")\n",
        "\n",
        "else :\n",
        "\n",
        "  print(\" the set is not empty\")"
      ],
      "metadata": {
        "colab": {
          "base_uri": "https://localhost:8080/"
        },
        "id": "_1bZzlDHZE3X",
        "outputId": "ab799471-a8d6-4604-8dde-c2e25bac4b8c"
      },
      "execution_count": 5,
      "outputs": [
        {
          "output_type": "stream",
          "name": "stdout",
          "text": [
            " the set is not empty\n"
          ]
        }
      ]
    },
    {
      "cell_type": "code",
      "source": [
        "# Creating sets\n",
        "set1 = {1, 2, 3}\n",
        "set2 = {4, 5, 6}\n",
        "\n",
        "# Creating a nested set using frozenset\n",
        "n_set = frozenset([frozenset(set1), frozenset(set2)])\n",
        "\n",
        "\n",
        "# Print the nested set\n",
        "print(\" the nested set:\", n_set)\n",
        "\n"
      ],
      "metadata": {
        "colab": {
          "base_uri": "https://localhost:8080/"
        },
        "id": "8hRAiQ_ZZdy4",
        "outputId": "6b30c5f0-30f0-4078-9f2d-fe7af5261017"
      },
      "execution_count": 21,
      "outputs": [
        {
          "output_type": "stream",
          "name": "stdout",
          "text": [
            " the nested set: frozenset({frozenset({1, 2, 3}), frozenset({4, 5, 6})})\n"
          ]
        }
      ]
    },
    {
      "cell_type": "code",
      "source": [
        "#take a set\n",
        "set1 = {1,2,3,4,5,6,7}\n",
        "\n",
        "#discard the element\n",
        "set1.discard(4)\n",
        "\n",
        "#print the modified set\n",
        "print(\" the modified set : \",set1)"
      ],
      "metadata": {
        "colab": {
          "base_uri": "https://localhost:8080/"
        },
        "id": "Yq8WqnfLiSAO",
        "outputId": "85c2aa29-99e0-4bd4-9f1b-fd578b798c4e"
      },
      "execution_count": 22,
      "outputs": [
        {
          "output_type": "stream",
          "name": "stdout",
          "text": [
            " the modified set :  {1, 2, 3, 5, 6, 7}\n"
          ]
        }
      ]
    },
    {
      "cell_type": "code",
      "source": [
        "#take 2 sets\n",
        "set1 = {1, 2, 3}\n",
        "set2 = {3, 2, 1}\n",
        "\n",
        "#compare the sets\n",
        "if set1 == set2:\n",
        "    print(\"The sets are equal.\")\n",
        "else:\n",
        "    print(\"The sets are not equal.\")\n"
      ],
      "metadata": {
        "colab": {
          "base_uri": "https://localhost:8080/"
        },
        "id": "gKOWoJ9Niplr",
        "outputId": "c57a5c8b-8bcb-4ce1-c8a7-1fdd7282a47c"
      },
      "execution_count": 23,
      "outputs": [
        {
          "output_type": "stream",
          "name": "stdout",
          "text": [
            "The sets are equal.\n"
          ]
        }
      ]
    },
    {
      "cell_type": "code",
      "source": [
        "#take a string\n",
        "string1 = \"Hello\"\n",
        "\n",
        "set1 = set(string1)\n",
        "\n",
        "print(\" the set : \",set1)"
      ],
      "metadata": {
        "colab": {
          "base_uri": "https://localhost:8080/"
        },
        "id": "Tn6le36Ai2ZO",
        "outputId": "494487f7-9774-4f2e-dcfb-eb0c2ad44b2d"
      },
      "execution_count": 24,
      "outputs": [
        {
          "output_type": "stream",
          "name": "stdout",
          "text": [
            " the set :  {'l', 'o', 'e', 'H'}\n"
          ]
        }
      ]
    },
    {
      "cell_type": "code",
      "source": [
        "#take a set\n",
        "set1 = {\"1\", \"2\", \"3\", \"4\", \"5\"}\n",
        "\n",
        "#convert the strings into integers\n",
        "int_set = { int(s) for s in set1}\n",
        "\n",
        "#print the set\n",
        "print(\"the integer set : \",int_set)"
      ],
      "metadata": {
        "colab": {
          "base_uri": "https://localhost:8080/"
        },
        "id": "SRoXoVWujKb4",
        "outputId": "d505f871-0613-42f1-8127-218426df4a20"
      },
      "execution_count": 25,
      "outputs": [
        {
          "output_type": "stream",
          "name": "stdout",
          "text": [
            "the integer set :  {1, 2, 3, 4, 5}\n"
          ]
        }
      ]
    },
    {
      "cell_type": "code",
      "source": [
        "#take a set\n",
        "set1 = {1, 2, 3, 4, 5}\n",
        "\n",
        "#convert the  integers into strings\n",
        "str_set = { str(s) for s in set1}\n",
        "\n",
        "#print the set\n",
        "print(\"the integer set : \",str_set)"
      ],
      "metadata": {
        "colab": {
          "base_uri": "https://localhost:8080/"
        },
        "id": "6F4grtKOjv-2",
        "outputId": "535cbae1-2f03-4f37-e040-45c63f39d82a"
      },
      "execution_count": 26,
      "outputs": [
        {
          "output_type": "stream",
          "name": "stdout",
          "text": [
            "the integer set :  {'4', '3', '5', '2', '1'}\n"
          ]
        }
      ]
    },
    {
      "cell_type": "code",
      "source": [
        "#take a tuple\n",
        "tuple1 = (1, 2, 3, 4, 5)\n",
        "\n",
        "#conert the tuple into set\n",
        "set1 = set(tuple1)\n",
        "\n",
        "#print the set\n",
        "print(\" the set : \",set1)"
      ],
      "metadata": {
        "colab": {
          "base_uri": "https://localhost:8080/"
        },
        "id": "hcm38c_3kG9e",
        "outputId": "427f057c-d78b-422a-8edd-7ee058ca53ae"
      },
      "execution_count": 27,
      "outputs": [
        {
          "output_type": "stream",
          "name": "stdout",
          "text": [
            " the set :  {1, 2, 3, 4, 5}\n"
          ]
        }
      ]
    },
    {
      "cell_type": "code",
      "source": [
        "#take a set\n",
        "set1 = {1, 2, 3, 4, 5}\n",
        "\n",
        "#conert  set into tuple\n",
        "tuple1 = tuple(set1)\n",
        "\n",
        "#print the set\n",
        "print(\" the tuple : \",tuple1)"
      ],
      "metadata": {
        "colab": {
          "base_uri": "https://localhost:8080/"
        },
        "id": "9nhR85eJkhyv",
        "outputId": "286ca204-c3e9-43d0-f317-d5905744ea97"
      },
      "execution_count": 29,
      "outputs": [
        {
          "output_type": "stream",
          "name": "stdout",
          "text": [
            " the tuple :  (1, 2, 3, 4, 5)\n"
          ]
        }
      ]
    },
    {
      "cell_type": "code",
      "source": [
        "#take a set\n",
        "set1 = {1, 2, 3, 4, 5}\n",
        "\n",
        "#find the max value\n",
        "max_value = max(set1)\n",
        "\n",
        "#print the max value\n",
        "print(\" the max value in set : \",max_value)"
      ],
      "metadata": {
        "colab": {
          "base_uri": "https://localhost:8080/"
        },
        "id": "k6oYDcGqmOeE",
        "outputId": "26c733af-666c-408e-8703-f7eae5b43f20"
      },
      "execution_count": 30,
      "outputs": [
        {
          "output_type": "stream",
          "name": "stdout",
          "text": [
            " the max value in set :  5\n"
          ]
        }
      ]
    },
    {
      "cell_type": "code",
      "source": [
        "#take a set\n",
        "set1 = {1, 2, 3, 4, 5}\n",
        "\n",
        "#find the minimum value\n",
        "min_value = min(set1)\n",
        "\n",
        "#print the max value\n",
        "print(\" the minimum value in set : \",min_value)"
      ],
      "metadata": {
        "colab": {
          "base_uri": "https://localhost:8080/"
        },
        "id": "dMWPmSf-mjDk",
        "outputId": "587742ca-5daf-4df0-8e3f-7f9ef2846867"
      },
      "execution_count": 31,
      "outputs": [
        {
          "output_type": "stream",
          "name": "stdout",
          "text": [
            " the minimum value in set :  1\n"
          ]
        }
      ]
    },
    {
      "cell_type": "code",
      "source": [
        "#take a set as a input\n",
        "set1 = set(input(\"enter the set : \"))\n",
        "\n",
        "#print the set\n",
        "print(\" the set : \",set1)"
      ],
      "metadata": {
        "colab": {
          "base_uri": "https://localhost:8080/"
        },
        "id": "lJsvs8Qgms2L",
        "outputId": "078279e7-660e-43fc-9edd-ed6cb991ca8d"
      },
      "execution_count": 32,
      "outputs": [
        {
          "output_type": "stream",
          "name": "stdout",
          "text": [
            "enter the set : 1234567\n",
            " the set :  {'4', '3', '5', '2', '6', '1', '7'}\n"
          ]
        }
      ]
    },
    {
      "cell_type": "code",
      "source": [
        "#take 2 sets\n",
        "set1 = { 1 , 2 , 3 }\n",
        "set2 = { 4 , 5, 6  }\n",
        "\n",
        "#check if sets have intersection\n",
        "result = set1.isdisjoint(set2)\n",
        "\n",
        "if not result :\n",
        "\n",
        "  print(\" the sets have no common elements\")\n",
        "\n",
        "else:\n",
        "\n",
        "  print(\" the sets have common elements\")"
      ],
      "metadata": {
        "colab": {
          "base_uri": "https://localhost:8080/"
        },
        "id": "hg-GJD8InAVy",
        "outputId": "223bc875-5778-42dd-883c-a9bfa14f68d0"
      },
      "execution_count": 35,
      "outputs": [
        {
          "output_type": "stream",
          "name": "stdout",
          "text": [
            " the sets have common elements\n"
          ]
        }
      ]
    },
    {
      "cell_type": "code",
      "source": [
        "# Function to generate the Fibonacci numbers\n",
        "def generate_fibonacci(n):\n",
        "    fibonacci_set = set()\n",
        "    a, b = 0, 1\n",
        "\n",
        "    for _ in range(n):\n",
        "        fibonacci_set.add(a)\n",
        "        a, b = b, a + b\n",
        "\n",
        "    return fibonacci_set\n",
        "\n",
        "# Create a set of the first 5 Fibonacci numbers\n",
        "first_five_fibonacci = generate_fibonacci(5)\n",
        "\n",
        "print(\"Set of the first 5 Fibonacci numbers:\", first_five_fibonacci)\n"
      ],
      "metadata": {
        "colab": {
          "base_uri": "https://localhost:8080/"
        },
        "id": "i7sWGwLmqUpF",
        "outputId": "b6364591-716d-42c5-d3c9-4e91319ffc3b"
      },
      "execution_count": 39,
      "outputs": [
        {
          "output_type": "stream",
          "name": "stdout",
          "text": [
            "Set of the first 5 Fibonacci numbers: {0, 1, 2, 3}\n"
          ]
        }
      ]
    },
    {
      "cell_type": "code",
      "source": [
        "#take a list\n",
        "list1 = [1, 2, 3, 1, 2, 4, 5]\n",
        "\n",
        "#remove the duplicates\n",
        "list2 = list(set(list1))\n",
        "\n",
        "#print the list\n",
        "print(\" the list : \",list2)"
      ],
      "metadata": {
        "colab": {
          "base_uri": "https://localhost:8080/"
        },
        "id": "EioayLVuqpWe",
        "outputId": "dbd93919-4f4f-400c-f39f-88c2a874322e"
      },
      "execution_count": 40,
      "outputs": [
        {
          "output_type": "stream",
          "name": "stdout",
          "text": [
            " the list :  [1, 2, 3, 4, 5]\n"
          ]
        }
      ]
    },
    {
      "cell_type": "code",
      "source": [
        "#take 2 sets\n",
        "set1 = {1, 2, 3, 4}\n",
        "set2 = {4, 3, 2, 1}\n",
        "\n",
        "#check if the sets have same elements\n",
        "if set1 == set2:\n",
        "    print(\"The sets have the same elements.\")\n",
        "else:\n",
        "    print(\"The sets do not have the same elements.\")\n"
      ],
      "metadata": {
        "colab": {
          "base_uri": "https://localhost:8080/"
        },
        "id": "w1bqYyY_rRJe",
        "outputId": "6c1c3a8c-def3-4082-8fac-d9786eaf97f6"
      },
      "execution_count": 41,
      "outputs": [
        {
          "output_type": "stream",
          "name": "stdout",
          "text": [
            "The sets have the same elements.\n"
          ]
        }
      ]
    },
    {
      "cell_type": "code",
      "source": [
        "#create a function to find power of 2 for n numbers\n",
        "def po_2(n):\n",
        "\n",
        "  return { 2 **i for i in range(n)}\n",
        "\n",
        "set1 = po_2(5)\n",
        "\n",
        "#print the set\n",
        "print(\" the set : \",set1)"
      ],
      "metadata": {
        "colab": {
          "base_uri": "https://localhost:8080/"
        },
        "id": "AfrEDCxVrnMM",
        "outputId": "3b75f2b2-2a65-4750-ee80-3871fe2b7d78"
      },
      "execution_count": 44,
      "outputs": [
        {
          "output_type": "stream",
          "name": "stdout",
          "text": [
            " the set :  {1, 2, 4, 8, 16}\n"
          ]
        }
      ]
    },
    {
      "cell_type": "code",
      "source": [
        "#take 2 sets\n",
        "set1 = {1, 2, 3, 4}\n",
        "set2 = {4, 3, 2, 1}\n",
        "\n",
        "c_ele = set1.intersection(set2)\n",
        "\n",
        "#print the set\n",
        "print(\" there are common elements in sets : \",c_ele)"
      ],
      "metadata": {
        "colab": {
          "base_uri": "https://localhost:8080/"
        },
        "id": "WZmzyB0Ssy2l",
        "outputId": "6913620c-e313-4728-edbc-67d6d6f1648b"
      },
      "execution_count": 45,
      "outputs": [
        {
          "output_type": "stream",
          "name": "stdout",
          "text": [
            " there are common elements in sets :  {1, 2, 3, 4}\n"
          ]
        }
      ]
    },
    {
      "cell_type": "code",
      "source": [
        "# Function to generate the first n triangular numbers\n",
        "def tr_n(n):\n",
        "    return {(i * (i + 1)) // 2 for i in range(1, n + 1)}\n",
        "\n",
        "# Create a set of the first 5 triangular numbers\n",
        "tri_no= tr_n(5)\n",
        "\n",
        "print(\"Set of the first 5 triangular numbers:\",tri_no)\n"
      ],
      "metadata": {
        "colab": {
          "base_uri": "https://localhost:8080/"
        },
        "id": "AaRKnha4tSuJ",
        "outputId": "128ed745-bcaa-4903-cce7-ed851c30c75c"
      },
      "execution_count": 46,
      "outputs": [
        {
          "output_type": "stream",
          "name": "stdout",
          "text": [
            "Set of the first 5 triangular numbers: {1, 3, 6, 10, 15}\n"
          ]
        }
      ]
    },
    {
      "cell_type": "code",
      "source": [
        "#take 2 sets\n",
        "set1 = {1, 2, 3, 4, 5}\n",
        "set2 = {2, 3}\n",
        "\n",
        "if set2.issubset(set1):\n",
        "  print(\" the set2 is subset of set1\")\n",
        "\n",
        "else:\n",
        "  print(\" the set2 is not subset of set1\")"
      ],
      "metadata": {
        "colab": {
          "base_uri": "https://localhost:8080/"
        },
        "id": "Bw6XKBoQtzqc",
        "outputId": "27e3c1c9-90d7-4193-cafa-b873362c166e"
      },
      "execution_count": 47,
      "outputs": [
        {
          "output_type": "stream",
          "name": "stdout",
          "text": [
            " the set2 is subset of set1\n"
          ]
        }
      ]
    },
    {
      "cell_type": "code",
      "source": [
        "alt_list = [i % 2 for i in range(6)]\n",
        "a_set = set(alt_list)\n",
        "\n",
        "print(\"Set of alternating 1s and 0s:\", a_set)\n"
      ],
      "metadata": {
        "colab": {
          "base_uri": "https://localhost:8080/"
        },
        "id": "V8mnfiMZuOVx",
        "outputId": "600d28ac-f102-4ab0-8a0e-75ea0b244971"
      },
      "execution_count": 53,
      "outputs": [
        {
          "output_type": "stream",
          "name": "stdout",
          "text": [
            "Set of alternating 1s and 0s: {0, 1}\n"
          ]
        }
      ]
    },
    {
      "cell_type": "code",
      "source": [
        "#take 3 sets\n",
        "set1 = {1, 2, 3}\n",
        "set2 = {3, 4, 5}\n",
        "set3 = {5, 6, 7}\n",
        "\n",
        "# merge the 3 sets\n",
        "m_set = set1.union(set2,set3)\n",
        "\n",
        "#print the merged set\n",
        "print(\" the merged set : \",m_set)"
      ],
      "metadata": {
        "colab": {
          "base_uri": "https://localhost:8080/"
        },
        "id": "-2e52i-_vWCA",
        "outputId": "69b6c027-04d2-4ef8-d182-8c78cd30157e"
      },
      "execution_count": 54,
      "outputs": [
        {
          "output_type": "stream",
          "name": "stdout",
          "text": [
            " the merged set :  {1, 2, 3, 4, 5, 6, 7}\n"
          ]
        }
      ]
    }
  ]
}