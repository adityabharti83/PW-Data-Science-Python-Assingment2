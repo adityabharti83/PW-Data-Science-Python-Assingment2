{
 "cells": [
  {
   "cell_type": "markdown",
   "id": "7d2f4fa4-ad80-431c-b57b-66dfded7d88b",
   "metadata": {},
   "source": [
    "String Programs\n"
   ]
  },
  {
   "cell_type": "code",
   "execution_count": 7,
   "id": "b6069426-481a-41f4-8e67-365e55fefe05",
   "metadata": {},
   "outputs": [
    {
     "name": "stdin",
     "output_type": "stream",
     "text": [
      "Enter a String :  Harshwardhan\n"
     ]
    },
    {
     "name": "stdout",
     "output_type": "stream",
     "text": [
      "The reversed string is :  nahdrawhsraH\n"
     ]
    }
   ],
   "source": [
    "#Take a string as a input\n",
    "String1 = str(input(\"Enter a String : \"))\n",
    "#reverse the string\n",
    "print(\"The reversed string is : \",String1[::-1])"
   ]
  },
  {
   "cell_type": "code",
   "execution_count": 10,
   "id": "68b68c99-ceb3-4fa3-b424-a9072f5c6131",
   "metadata": {},
   "outputs": [
    {
     "name": "stdin",
     "output_type": "stream",
     "text": [
      "Enter a string :  madam\n"
     ]
    },
    {
     "name": "stdout",
     "output_type": "stream",
     "text": [
      "String is palindrome\n"
     ]
    }
   ],
   "source": [
    "#take a string as an input\n",
    "String = input(\"Enter a string : \")\n",
    "\n",
    "#reverse the string by slicing\n",
    "reverseStr = String[-1::-1]\n",
    "\n",
    "#let's put a if-else condtion for palindrome strings\n",
    "if String == reverseStr:\n",
    "    print(\"String is palindrome\")\n",
    "        \n",
    "else:\n",
    "     print(\"String is not palindrome\")"
   ]
  },
  {
   "cell_type": "code",
   "execution_count": 14,
   "id": "406eb76f-6b80-431e-90ba-46c158a13050",
   "metadata": {},
   "outputs": [
    {
     "name": "stdin",
     "output_type": "stream",
     "text": [
      "Enter a string :  I will wake up in the morning\n"
     ]
    },
    {
     "name": "stdout",
     "output_type": "stream",
     "text": [
      "The string in uppercase :  I WILL WAKE UP IN THE MORNING\n"
     ]
    }
   ],
   "source": [
    "#take a string as an input\n",
    "String1 = str(input(\"Enter a string : \"))\n",
    "#Convert the string into uppercase\n",
    "print(\"The string in uppercase : \" , String1.upper())"
   ]
  },
  {
   "cell_type": "code",
   "execution_count": 15,
   "id": "d4bb8a0d-a7f3-4e44-9a13-06d3c24405cd",
   "metadata": {},
   "outputs": [
    {
     "name": "stdin",
     "output_type": "stream",
     "text": [
      "Enter a string :  I WILL WAKE UP IN THE MORNING\n"
     ]
    },
    {
     "name": "stdout",
     "output_type": "stream",
     "text": [
      "The string in lowercase :  i will wake up in the morning\n"
     ]
    }
   ],
   "source": [
    "#take a string as an input\n",
    "String1 = str(input(\"Enter a string : \"))\n",
    "#Convert the string into lowercase\n",
    "print(\"The string in lowercase : \" , String1.lower())"
   ]
  },
  {
   "cell_type": "code",
   "execution_count": 16,
   "id": "35ec5042-a19b-45ea-ba02-1e2365cc7bd7",
   "metadata": {},
   "outputs": [
    {
     "name": "stdin",
     "output_type": "stream",
     "text": [
      "Enter a string:  Good morning everyone\n"
     ]
    },
    {
     "name": "stdout",
     "output_type": "stream",
     "text": [
      "The number of vowels in the string is :  8\n"
     ]
    }
   ],
   "source": [
    "#Taking string as an input\n",
    "string = input(\"Enter a string: \")\n",
    "\n",
    "#Let us describe the vowels\n",
    "Vowels = ['A', 'E', 'I', 'O', 'U', 'a', 'e', 'i', 'o', 'u']\n",
    "\n",
    "#Start the count of vowels \n",
    "VowelCount = 0\n",
    "\n",
    "#Let us Traverse every character in the string\n",
    "for char in string:\n",
    "    \n",
    "    #If the character is a vowel, increment VowelCount\n",
    "    if char in Vowels:\n",
    "        VowelCount = VowelCount + 1\n",
    "        \n",
    "#print the number of vowels\n",
    "print(\"The number of vowels in the string is : \", VowelCount)\n"
   ]
  },
  {
   "cell_type": "code",
   "execution_count": 21,
   "id": "ed78041a-19d3-4d2a-9418-91e5234d7b23",
   "metadata": {},
   "outputs": [
    {
     "name": "stdin",
     "output_type": "stream",
     "text": [
      "Enter a string:  I will be there for you\n"
     ]
    },
    {
     "name": "stdout",
     "output_type": "stream",
     "text": [
      "The number of consonants in the string is :  10\n"
     ]
    }
   ],
   "source": [
    "#Taking string as an input\n",
    "string = input(\"Enter a string: \")\n",
    "\n",
    "#Let us describe the consonants\n",
    "Consonants = ['b','c','d','f','g','h','j','k','l','m','n','p','q','r','s','t','v','w','x','y','z'\n",
    ",'B','C','D','F','G','H','J','K','L','M','N','P','Q','R','S','T','V','W','X','Y','Z']\n",
    "\n",
    "#Start the count of consonants\n",
    "ConsonantCount = 0\n",
    "\n",
    "#Let us Traverse every character in the string\n",
    "for char in string:\n",
    "    \n",
    "    #If the character is a consonants, increment VowelCount\n",
    "    if char in Consonants:\n",
    "        ConsonantCount = ConsonantCount + 1\n",
    "        \n",
    "#print the number of consonants\n",
    "print(\"The number of consonants in the string is : \", ConsonantCount)\n"
   ]
  },
  {
   "cell_type": "code",
   "execution_count": 22,
   "id": "0c8e38ae-b1f8-4290-ba96-d00c92bf8cee",
   "metadata": {},
   "outputs": [
    {
     "name": "stdin",
     "output_type": "stream",
     "text": [
      "Enter a string :  I will be there for you\n"
     ]
    },
    {
     "name": "stdout",
     "output_type": "stream",
     "text": [
      "The string with no whitespaces :  Iwillbethereforyou\n"
     ]
    }
   ],
   "source": [
    "#Take a string as a input\n",
    "String1 = str(input(\"Enter a string : \"))\n",
    "#remove all the whitespaces from the string\n",
    "print(\"The string with no whitespaces : \",String1.replace(\" \" , \"\"))"
   ]
  },
  {
   "cell_type": "code",
   "execution_count": 29,
   "id": "6e9df489-ddbf-42cf-869c-9762769ffe79",
   "metadata": {},
   "outputs": [
    {
     "name": "stdin",
     "output_type": "stream",
     "text": [
      "Enter a string :  I will be there for you\n"
     ]
    },
    {
     "name": "stdout",
     "output_type": "stream",
     "text": [
      "the length of the string is :  23\n"
     ]
    }
   ],
   "source": [
    "#Take a string as a input\n",
    "String1 = str(input(\"Enter a string : \"))\n",
    "\n",
    "#start the count of characters in the string\n",
    "count = 0\n",
    "\n",
    "#start a loop the increment the number of count of characters in the string\n",
    "for char in String1:\n",
    "    count = count + 1\n",
    "    \n",
    "#print the count of characters in the string\n",
    "print(\"the length of the string is : \",count)"
   ]
  },
  {
   "cell_type": "code",
   "execution_count": 32,
   "id": "d77b8a16-ba09-469d-8e23-70399d297222",
   "metadata": {},
   "outputs": [
    {
     "name": "stdin",
     "output_type": "stream",
     "text": [
      "Enter a string :  I will be going with suraj today\n"
     ]
    },
    {
     "name": "stdout",
     "output_type": "stream",
     "text": [
      "the word 's' in the string exists at :  21\n"
     ]
    }
   ],
   "source": [
    "#Take a string as a input\n",
    "String1 = str(input(\"Enter a string : \"))\n",
    "#check if the string contains a specific word\n",
    "print(\"the word 's' in the string exists at : \",String1.find('s'))"
   ]
  },
  {
   "cell_type": "code",
   "execution_count": 34,
   "id": "2f9550e9-d24e-4016-87de-ef1372be148f",
   "metadata": {},
   "outputs": [
    {
     "name": "stdin",
     "output_type": "stream",
     "text": [
      "Enter a string :  we can see anything with our eyes\n"
     ]
    },
    {
     "name": "stdout",
     "output_type": "stream",
     "text": [
      "the word 's' is replaced with 'w' :  we can wee anything with our eyew\n"
     ]
    }
   ],
   "source": [
    "#Take a string as a input\n",
    "String1 = str(input(\"Enter a string : \"))\n",
    "#replace the word in the string \n",
    "print(\"the word 's' is replaced with 'w' : \",String1.replace('s','w'))"
   ]
  },
  {
   "cell_type": "code",
   "execution_count": 35,
   "id": "70536c70-4078-4fd6-89e0-f1907cfb5ee6",
   "metadata": {},
   "outputs": [
    {
     "name": "stdin",
     "output_type": "stream",
     "text": [
      "Enter a string :  sea has lots of water in it\n"
     ]
    },
    {
     "name": "stdout",
     "output_type": "stream",
     "text": [
      "the word 's' in the string repated :  3  times\n"
     ]
    }
   ],
   "source": [
    "#Take a string as a input\n",
    "String1 = str(input(\"Enter a string : \"))\n",
    "#count the specific word in the string\n",
    "print(\"the word 's' in the string repated : \",String1.count('s'),\" times\")"
   ]
  },
  {
   "cell_type": "code",
   "execution_count": 37,
   "id": "4486eb8a-533a-4850-b0c9-32f82157ecf6",
   "metadata": {},
   "outputs": [
    {
     "name": "stdin",
     "output_type": "stream",
     "text": [
      "Enter a string :  simon go back\n"
     ]
    },
    {
     "name": "stdout",
     "output_type": "stream",
     "text": [
      "the word 's' is first occured in the string :  0\n"
     ]
    }
   ],
   "source": [
    "#Take a string as a input\n",
    "String1 = str(input(\"Enter a string : \"))\n",
    "#print the first occurence of the word in the string\n",
    "print(\"the word 's' is first occured in the string : \",String1.index('s'))"
   ]
  },
  {
   "cell_type": "code",
   "execution_count": 41,
   "id": "ad5902ab-e302-457a-a026-36aa6c845879",
   "metadata": {},
   "outputs": [
    {
     "name": "stdin",
     "output_type": "stream",
     "text": [
      "Enter a string :  we can fight for our rights\n"
     ]
    },
    {
     "name": "stdout",
     "output_type": "stream",
     "text": [
      "the word 'r' is last occured in the string :  21\n"
     ]
    }
   ],
   "source": [
    "#Take a string as a input\n",
    "String1 = str(input(\"Enter a string : \"))\n",
    "#print the last occurence of the word in the string\n",
    "print(\"the word 'r' is last occured in the string : \",String1.rfind('r'))"
   ]
  },
  {
   "cell_type": "code",
   "execution_count": 43,
   "id": "311d8feb-02c7-4d23-b418-874a3d1b5c77",
   "metadata": {},
   "outputs": [
    {
     "name": "stdin",
     "output_type": "stream",
     "text": [
      "Enter a string :  we can and we will\n"
     ]
    },
    {
     "name": "stdout",
     "output_type": "stream",
     "text": [
      "the list of words after splitting:  ['we', 'can', 'and', 'we', 'will']\n"
     ]
    }
   ],
   "source": [
    "#Take a string as a input\n",
    "String1 = str(input(\"Enter a string : \"))\n",
    "#split the string into list of words\n",
    "print(\"the list of words after splitting: \",String1.split())"
   ]
  },
  {
   "cell_type": "code",
   "execution_count": 46,
   "id": "9cf8aaa8-9158-4129-917a-3985eaf877d4",
   "metadata": {},
   "outputs": [
    {
     "name": "stdout",
     "output_type": "stream",
     "text": [
      "the joined list of words :  This is a list of words\n"
     ]
    }
   ],
   "source": [
    "list = [\"This\", \"is\", \"a\", \"list\", \"of\", \"words\"]\n",
    "string1 = \" \".join(list)\n",
    "print(\"the joined list of words : \",string1)"
   ]
  },
  {
   "cell_type": "code",
   "execution_count": 48,
   "id": "49e190c9-18a8-4f32-b908-18ca4f4f6797",
   "metadata": {},
   "outputs": [
    {
     "name": "stdin",
     "output_type": "stream",
     "text": [
      "Enter a string :  we can win this game\n"
     ]
    },
    {
     "name": "stdout",
     "output_type": "stream",
     "text": [
      "the string after replacing spaces with underscore :  we_can_win_this_game\n"
     ]
    }
   ],
   "source": [
    "#Take a string as a input\n",
    "String1 = str(input(\"Enter a string : \"))\n",
    "#replace the word in the string \n",
    "print(\"the string after replacing spaces with underscore : \",String1.replace(' ','_'))"
   ]
  },
  {
   "cell_type": "code",
   "execution_count": 50,
   "id": "2f2bf84d-fcd9-4163-b9ca-6b1068668b6a",
   "metadata": {},
   "outputs": [
    {
     "name": "stdin",
     "output_type": "stream",
     "text": [
      "Enter a string :  the great wall of china\n"
     ]
    },
    {
     "name": "stdout",
     "output_type": "stream",
     "text": [
      "the string starts with 'the' :  True\n"
     ]
    }
   ],
   "source": [
    "#Take a string as a input\n",
    "String1 = str(input(\"Enter a string : \"))\n",
    "#check the starting word of string\n",
    "print(\"the string starts with 'the' : \",String1.startswith('the'))"
   ]
  },
  {
   "cell_type": "code",
   "execution_count": 52,
   "id": "a6fda844-4856-4bf3-bf44-629a99e26b41",
   "metadata": {},
   "outputs": [
    {
     "name": "stdin",
     "output_type": "stream",
     "text": [
      "Enter a string :  the great wall of china\n"
     ]
    },
    {
     "name": "stdout",
     "output_type": "stream",
     "text": [
      "the string ends with 'china' :  True\n"
     ]
    }
   ],
   "source": [
    "#Take a string as a input\n",
    "String1 = str(input(\"Enter a string : \"))\n",
    "#check the ending word of string\n",
    "print(\"the string ends with 'china' : \",String1.endswith('china'))"
   ]
  },
  {
   "cell_type": "code",
   "execution_count": 54,
   "id": "ad506a93-3af6-460b-87ae-89f2ee483797",
   "metadata": {},
   "outputs": [
    {
     "name": "stdin",
     "output_type": "stream",
     "text": [
      "Enter a string :  hello world\n"
     ]
    },
    {
     "name": "stdout",
     "output_type": "stream",
     "text": [
      "the title case string :  Hello World\n"
     ]
    }
   ],
   "source": [
    "#Take a string as a input\n",
    "String1 = str(input(\"Enter a string : \"))\n",
    "#convert the string into title case\n",
    "print(\"the title case string : \",String1.title())"
   ]
  },
  {
   "cell_type": "code",
   "execution_count": 61,
   "id": "ef7fe607-30a0-4768-92b4-89f2b9f13351",
   "metadata": {},
   "outputs": [
    {
     "name": "stdin",
     "output_type": "stream",
     "text": [
      "Enter a string :  the vaccine is the solution\n"
     ]
    },
    {
     "name": "stdout",
     "output_type": "stream",
     "text": [
      "the longest word in the string is :  solution\n"
     ]
    }
   ],
   "source": [
    "#Take a string as a input\n",
    "String1 = str(input(\"Enter a string : \"))\n",
    "\n",
    "#split the string into words\n",
    "words = String1.split()\n",
    "\n",
    "#print the longest word\n",
    "print(\"the longest word in the string is : \" ,max(words,key=len))"
   ]
  },
  {
   "cell_type": "code",
   "execution_count": 62,
   "id": "1890876d-16e8-48e7-8f22-5b99faef2055",
   "metadata": {},
   "outputs": [
    {
     "name": "stdin",
     "output_type": "stream",
     "text": [
      "Enter a string :  the vaccine is solution\n"
     ]
    },
    {
     "name": "stdout",
     "output_type": "stream",
     "text": [
      "the shortest word in the string is :  is\n"
     ]
    }
   ],
   "source": [
    "#Take a string as a input\n",
    "String1 = str(input(\"Enter a string : \"))\n",
    "\n",
    "#split the string into words\n",
    "words = String1.split()\n",
    "\n",
    "#print the shortest word\n",
    "print(\"the shortest word in the string is : \" ,min(words,key=len))"
   ]
  },
  {
   "cell_type": "code",
   "execution_count": 63,
   "id": "f31d09a1-2c50-4c70-bd1e-0ba480cb9e3f",
   "metadata": {},
   "outputs": [
    {
     "name": "stdin",
     "output_type": "stream",
     "text": [
      "Enter a string :  we can win this war\n"
     ]
    },
    {
     "name": "stdout",
     "output_type": "stream",
     "text": [
      "the reversed string is :  war this win can we\n"
     ]
    }
   ],
   "source": [
    "#Take a string as a input\n",
    "String1 = str(input(\"Enter a string : \"))\n",
    "\n",
    "#split the string into words\n",
    "words = String1.split()\n",
    "\n",
    "#print the reversed string\n",
    "print(\"the reversed string is : \" ,' '.join(reversed(words)))"
   ]
  },
  {
   "cell_type": "code",
   "execution_count": 64,
   "id": "8dd887fd-a47d-46fd-8494-95bd936bc97a",
   "metadata": {},
   "outputs": [
    {
     "name": "stdin",
     "output_type": "stream",
     "text": [
      "Enter a string :  lets go to camping\n"
     ]
    },
    {
     "name": "stdout",
     "output_type": "stream",
     "text": [
      "the string is alphanumeric :  False\n"
     ]
    }
   ],
   "source": [
    "#Take a string as a input\n",
    "String1 = str(input(\"Enter a string : \"))\n",
    "\n",
    "#check if the string is alphanumeric or not\n",
    "print(\"the string is alphanumeric : \",String1.isalnum())"
   ]
  },
  {
   "cell_type": "code",
   "execution_count": 65,
   "id": "609d14d6-1d4f-40ff-b352-397d755cbcbf",
   "metadata": {},
   "outputs": [
    {
     "name": "stdin",
     "output_type": "stream",
     "text": [
      "Enter a string :  we can meet at 5pm and there will be 200 people in the meeting and 100 people's presence is compulsory\n"
     ]
    },
    {
     "name": "stdout",
     "output_type": "stream",
     "text": [
      "the digits in the string are :  5 2 0 0 1 0 0\n"
     ]
    }
   ],
   "source": [
    "#Take a string as a input\n",
    "String1 = str(input(\"Enter a string : \"))\n",
    "\n",
    "#extract the digit from string and join them\n",
    "digits = ' '.join(char for char in String1 if char.isdigit())\n",
    "\n",
    "#print the digits\n",
    "print(\"the digits in the string are : \" , digits)\n"
   ]
  },
  {
   "cell_type": "code",
   "execution_count": 66,
   "id": "384281d5-bbbb-471d-8dd7-95e10b814589",
   "metadata": {},
   "outputs": [
    {
     "name": "stdin",
     "output_type": "stream",
     "text": [
      "Enter a string :  we can meet at 5pm and there will be 200 people in the meeting and 100 people's presence is compulsory\n"
     ]
    },
    {
     "name": "stdout",
     "output_type": "stream",
     "text": [
      "the alphabets  in the string are :  w e c a n m e e t a t p m a n d t h e r e w i l l b e p e o p l e i n t h e m e e t i n g a n d p e o p l e s p r e s e n c e i s c o m p u l s o r y\n"
     ]
    }
   ],
   "source": [
    "#Take a string as a input\n",
    "String1 = str(input(\"Enter a string : \"))\n",
    "\n",
    "#extract the alphabets from string and join them\n",
    "alphabets = ' '.join(char for char in String1 if char.isalpha())\n",
    "\n",
    "#print the aplhabets\n",
    "print(\"the alphabets  in the string are : \" , alphabets )"
   ]
  },
  {
   "cell_type": "code",
   "execution_count": 4,
   "id": "f76edc0c-2f1d-4d9a-8492-021f0c504541",
   "metadata": {},
   "outputs": [
    {
     "name": "stdin",
     "output_type": "stream",
     "text": [
      "Enter a string :  India Is My Country\n"
     ]
    },
    {
     "name": "stdout",
     "output_type": "stream",
     "text": [
      " the number of uppercase letters in string is :  4\n"
     ]
    }
   ],
   "source": [
    "#Take a string as a input\n",
    "String1 = str(input(\"Enter a string : \"))\n",
    "\n",
    "#intialize the count for case letters\n",
    "Count = 0\n",
    "\n",
    "#initiate for counting the uppercase letters\n",
    "for char in String1:\n",
    "    if char.isupper():\n",
    "        Count = Count + 1\n",
    "\n",
    "#print the number of uppercase letters\n",
    "print(\" the number of uppercase letters in string is : \" , Count)"
   ]
  },
  {
   "cell_type": "code",
   "execution_count": 5,
   "id": "b394447c-5788-4aa2-bbb3-c0757d505684",
   "metadata": {},
   "outputs": [
    {
     "name": "stdin",
     "output_type": "stream",
     "text": [
      "Enter a string :  India Is My Country\n"
     ]
    },
    {
     "name": "stdout",
     "output_type": "stream",
     "text": [
      " the number of lowercase letters in string is :  12\n"
     ]
    }
   ],
   "source": [
    "#Take a string as a input\n",
    "String1 = str(input(\"Enter a string : \"))\n",
    "\n",
    "#intialize the count for case letters\n",
    "Count = 0\n",
    "\n",
    "#initiate for counting the lowercase letters\n",
    "for char in String1:\n",
    "    if char.islower():\n",
    "        Count = Count + 1\n",
    "\n",
    "#print the number of lowercase letters\n",
    "print(\" the number of lowercase letters in string is : \" , Count)"
   ]
  },
  {
   "cell_type": "code",
   "execution_count": 7,
   "id": "41126726-72c0-4d2f-97e7-1f4e2fba0fc4",
   "metadata": {},
   "outputs": [
    {
     "name": "stdin",
     "output_type": "stream",
     "text": [
      "Enter a string :  We Love Watch Movies\n"
     ]
    },
    {
     "name": "stdout",
     "output_type": "stream",
     "text": [
      "the string after swapping cases :  wE lOVE wATCH mOVIES\n"
     ]
    }
   ],
   "source": [
    "#Take a string as a input\n",
    "String1 = str(input(\"Enter a string : \"))\n",
    "\n",
    "print(\"the string after swapping cases : \", String1.swapcase())"
   ]
  },
  {
   "cell_type": "code",
   "execution_count": 10,
   "id": "9b3171cd-aa66-43cc-adb1-50a4b97d8ebb",
   "metadata": {},
   "outputs": [
    {
     "name": "stdin",
     "output_type": "stream",
     "text": [
      "Enter a string :  the machines will do everything\n"
     ]
    },
    {
     "name": "stdout",
     "output_type": "stream",
     "text": [
      "the string after swapping cases :   machines will do everything\n"
     ]
    }
   ],
   "source": [
    "#Take a string as a input\n",
    "String1 = str(input(\"Enter a string : \"))\n",
    "\n",
    "print(\"the string after swapping cases : \", String1.replace('the', ''))"
   ]
  },
  {
   "cell_type": "code",
   "execution_count": 13,
   "id": "7d1bd354-55ea-4e56-8ded-14c2b1633e0a",
   "metadata": {},
   "outputs": [
    {
     "name": "stdin",
     "output_type": "stream",
     "text": [
      "enter a email address :   harshwardhanlahane6@gmail.com\n"
     ]
    },
    {
     "name": "stdout",
     "output_type": "stream",
     "text": [
      "the email address is valid\n"
     ]
    }
   ],
   "source": [
    "#take email as input\n",
    "email = input(\"enter a email address :  \")\n",
    "\n",
    "#split the email using @\n",
    "parts = email.split('@')\n",
    "\n",
    "#split the email in 2 parts\n",
    "if len(parts) == 2:\n",
    "    username , domain = parts\n",
    "    \n",
    "#set a if-else condition for the email validation\n",
    "    if username and domain:\n",
    "        if '.' in domain:\n",
    "            print(\"the email address is valid\")\n",
    "            \n",
    "        else:\n",
    "            print(\"the email address is not valid\")\n"
   ]
  },
  {
   "cell_type": "code",
   "execution_count": 14,
   "id": "aa12c941-8950-4a43-b735-159c4bbeaff7",
   "metadata": {},
   "outputs": [
    {
     "name": "stdin",
     "output_type": "stream",
     "text": [
      "enter a email address :   harshwardhanlahane6@gmail.com\n"
     ]
    },
    {
     "name": "stdout",
     "output_type": "stream",
     "text": [
      "the username of email is :  harshwardhanlahane6\n"
     ]
    }
   ],
   "source": [
    "#take email as input\n",
    "email = input(\"enter a email address :  \")\n",
    "\n",
    "#split the email using @\n",
    "username = email.split('@')[0]\n",
    "\n",
    "#print the user name\n",
    "print(\"the username of email is : \",username)\n"
   ]
  },
  {
   "cell_type": "code",
   "execution_count": 15,
   "id": "ccf33a33-4ae3-42e0-971f-27f6416669b8",
   "metadata": {},
   "outputs": [
    {
     "name": "stdin",
     "output_type": "stream",
     "text": [
      "enter a email address :   harshwardhanlahane6@gmail.com\n"
     ]
    },
    {
     "name": "stdout",
     "output_type": "stream",
     "text": [
      "the username of email is :  gmail.com\n"
     ]
    }
   ],
   "source": [
    "#take email as input\n",
    "email = input(\"enter a email address :  \")\n",
    "\n",
    "#split the email using @\n",
    "domain = email.split('@')[1]\n",
    "\n",
    "#print the domain\n",
    "print(\"the username of email is : \",domain)\n"
   ]
  },
  {
   "cell_type": "code",
   "execution_count": 17,
   "id": "e1518aa1-f811-4285-adf8-d8d8004876b8",
   "metadata": {},
   "outputs": [
    {
     "name": "stdin",
     "output_type": "stream",
     "text": [
      "Enter a string :  This   is    multiple     spaces      string\n"
     ]
    },
    {
     "name": "stdout",
     "output_type": "stream",
     "text": [
      " the string after removing multiple spaces :  This is multiple spaces string\n"
     ]
    }
   ],
   "source": [
    "#Take a string as a input\n",
    "String1 = str(input(\"Enter a string : \"))\n",
    "\n",
    "modified_string = ' '.join(String1.split())\n",
    "\n",
    "print(\" the string after removing multiple spaces : \",modified_string)"
   ]
  },
  {
   "cell_type": "code",
   "execution_count": 18,
   "id": "c806dd87-653f-434d-bb44-b66da7410cc9",
   "metadata": {},
   "outputs": [
    {
     "name": "stdin",
     "output_type": "stream",
     "text": [
      "Enter the URL :  https://drive.google.com/file/d/1q2FG27cypBxxldsz32YjxCtHlupki8jJ/view\n"
     ]
    },
    {
     "name": "stdout",
     "output_type": "stream",
     "text": [
      "URL is valid\n"
     ]
    }
   ],
   "source": [
    "#take URL as input\n",
    "url = input(\"Enter the URL : \")\n",
    "\n",
    "#intiate a if-else condition to verify the URL\n",
    "if \"://\" in url and \".\" in url:\n",
    "    print(\"URL is valid\")\n",
    "\n",
    "else:\n",
    "    print(\"URL is invalid\")"
   ]
  },
  {
   "cell_type": "code",
   "execution_count": 19,
   "id": "ce312f59-7cb6-4aa4-8046-0899a9746cb1",
   "metadata": {},
   "outputs": [
    {
     "name": "stdin",
     "output_type": "stream",
     "text": [
      "Enter the URL :  https://drive.google.com/file/d/1q2FG27cypBxxldsz32YjxCtHlupki8jJ/view\n"
     ]
    },
    {
     "name": "stdout",
     "output_type": "stream",
     "text": [
      "the protocol of URL is :  https\n"
     ]
    }
   ],
   "source": [
    "#take URL as input\n",
    "url = input(\"Enter the URL : \")\n",
    "\n",
    "if \"https\" in url:\n",
    "    protocol = \"https\"\n",
    "\n",
    "elif \"http\" in url:\n",
    "    protocol = \"http\"\n",
    "    \n",
    "else:\n",
    "    protocol = \"unknown\"\n",
    "    \n",
    "print(\"the protocol of URL is : \",protocol)\n",
    "\n"
   ]
  },
  {
   "cell_type": "code",
   "execution_count": 22,
   "id": "f4e61acb-5152-43b6-8026-a34a41279bf7",
   "metadata": {},
   "outputs": [
    {
     "name": "stdin",
     "output_type": "stream",
     "text": [
      "Enter a string :  Hello World\n"
     ]
    },
    {
     "name": "stdout",
     "output_type": "stream",
     "text": [
      "Character frequencies:\n",
      "H: 1\n",
      "e: 1\n",
      "l: 3\n",
      "o: 2\n",
      " : 1\n",
      "W: 1\n",
      "r: 1\n",
      "d: 1\n"
     ]
    }
   ],
   "source": [
    "#Take a string as a input\n",
    "String1 = str(input(\"Enter a string : \"))\n",
    "\n",
    "# Initialize an empty dictionary to store character frequencies\n",
    "char_frequency = {}\n",
    "\n",
    "# Count the frequency of each character\n",
    "for char in String1:\n",
    "    char_frequency[char] = char_frequency.get(char, 0) + 1\n",
    "\n",
    "# Print the character frequencies\n",
    "print(\"Character frequencies:\")\n",
    "for char, count in char_frequency.items():\n",
    "    print(f\"{char}: {count}\")\n"
   ]
  },
  {
   "cell_type": "code",
   "execution_count": 25,
   "id": "6df88948-28bd-4ab7-b4d0-2504e7090855",
   "metadata": {},
   "outputs": [
    {
     "name": "stdin",
     "output_type": "stream",
     "text": [
      "Enter a string :  the world , is crazy!!!  place to live ?\n"
     ]
    },
    {
     "name": "stdout",
     "output_type": "stream",
     "text": [
      "String without punctuation: the world  is crazy  place to live \n"
     ]
    }
   ],
   "source": [
    "#Take a string as a input\n",
    "String1 = str(input(\"Enter a string : \"))\n",
    "\n",
    "\n",
    "# Remove punctuation from the string\n",
    "np_string = ''.join(char for char in String1 if char.isalnum() or char.isspace())\n",
    "\n",
    "print(\"String without punctuation:\", np_string)\n"
   ]
  },
  {
   "cell_type": "code",
   "execution_count": 27,
   "id": "9d2bddd6-b8ad-41a8-a02b-0e7d6655769e",
   "metadata": {},
   "outputs": [
    {
     "name": "stdin",
     "output_type": "stream",
     "text": [
      "Enter a String :  12 people can make good team\n"
     ]
    },
    {
     "name": "stdout",
     "output_type": "stream",
     "text": [
      "The string contains only digit :  False\n"
     ]
    }
   ],
   "source": [
    "#take a string as a input\n",
    "String1 = str(input(\"Enter a String : \"))\n",
    "\n",
    "#check if the string contains only digit or not\n",
    "print(\"The string contains only digit : \", String1.isdigit())"
   ]
  },
  {
   "cell_type": "code",
   "execution_count": 31,
   "id": "196aeac6-decf-4ff0-ba1f-20230020e39c",
   "metadata": {},
   "outputs": [
    {
     "name": "stdin",
     "output_type": "stream",
     "text": [
      "Enter a String :  Alphabetically\n"
     ]
    },
    {
     "name": "stdout",
     "output_type": "stream",
     "text": [
      "The string contains only digit :  True\n"
     ]
    }
   ],
   "source": [
    "#take a string as a input\n",
    "String1 = str(input(\"Enter a String : \"))\n",
    "\n",
    "#check if the string contains only alphabets or not\n",
    "print(\"The string contains only digit : \", String1.isalpha())"
   ]
  },
  {
   "cell_type": "code",
   "execution_count": 32,
   "id": "75f2899c-9509-472a-8e04-47c677f76c6e",
   "metadata": {},
   "outputs": [
    {
     "name": "stdin",
     "output_type": "stream",
     "text": [
      "Enter a string :  The holidays are best part of life\n"
     ]
    },
    {
     "name": "stdout",
     "output_type": "stream",
     "text": [
      "the list of words after splitting:  ['The', 'holidays', 'are', 'best', 'part', 'of', 'life']\n"
     ]
    }
   ],
   "source": [
    "#Take a string as a input\n",
    "String1 = str(input(\"Enter a string : \"))\n",
    "#split the string into list of words\n",
    "print(\"the list of words after splitting: \",String1.split())"
   ]
  },
  {
   "cell_type": "code",
   "execution_count": 36,
   "id": "28c6820a-61f9-444a-8cdf-f1d5ac24b30b",
   "metadata": {},
   "outputs": [
    {
     "name": "stdin",
     "output_type": "stream",
     "text": [
      "Enter a String :  listen\n",
      "Enter a String :  silent\n"
     ]
    },
    {
     "name": "stdout",
     "output_type": "stream",
     "text": [
      "listen and silent are anagrams \n"
     ]
    }
   ],
   "source": [
    "#take a string as a input\n",
    "String1 = str(input(\"Enter a String : \"))\n",
    "\n",
    "#take a string as a input\n",
    "String2 = str(input(\"Enter a String : \"))\n",
    "\n",
    "anagram  = sorted(String1) == sorted(String2)\n",
    "\n",
    "if anagram :\n",
    "    print(f\"{String1} and {String2} are anagrams \")\n",
    "    \n",
    "else:\n",
    "     print(f\"{String1} and {String2} are not anagrams \")"
   ]
  },
  {
   "cell_type": "code",
   "execution_count": 38,
   "id": "432abb1d-392c-4b49-ba70-f2246d9baa8a",
   "metadata": {},
   "outputs": [
    {
     "name": "stdin",
     "output_type": "stream",
     "text": [
      "Enter a String :  Hello World\n"
     ]
    },
    {
     "name": "stdout",
     "output_type": "stream",
     "text": [
      "Encoded string (Caesar cipher with shift 3): Wklv   lv   d   vwulqj   zlwk   pxowlsoh   vsdfhv.\n"
     ]
    }
   ],
   "source": [
    "#take a string as a input\n",
    "String1 = str(input(\"Enter a String : \"))\n",
    "\n",
    "shift = 3\n",
    "\n",
    "# Encode the string using a Caesar cipher\n",
    "encoded_string = ''.join(chr((ord(char) - 65 + shift) % 26 + 65) if char.isupper() else\n",
    "                          chr((ord(char) - 97 + shift) % 26 + 97) if char.islower() else char\n",
    "                          for char in original_string)\n",
    "\n",
    "#print the encoded string\n",
    "print(f\"Encoded string (Caesar cipher with shift {shift}):\", encoded_string)\n"
   ]
  },
  {
   "cell_type": "code",
   "execution_count": 39,
   "id": "4227d907-1e8a-4780-b58a-e05323749831",
   "metadata": {},
   "outputs": [
    {
     "name": "stdout",
     "output_type": "stream",
     "text": [
      "Decoded string (Caesar cipher with shift 3): Hello, World!\n"
     ]
    }
   ],
   "source": [
    "#take the encoded string\n",
    "encoded_string = \"Khoor, Zruog!\"\n",
    "shift = 3\n",
    "\n",
    "# Decode the string using a Caesar cipher\n",
    "decoded_string = ''.join(chr((ord(char) - 65 - shift) % 26 + 65) if char.isupper() else\n",
    "                          chr((ord(char) - 97 - shift) % 26 + 97) if char.islower() else char\n",
    "                          for char in encoded_string)\n",
    "\n",
    "#print the decoded string\n",
    "print(f\"Decoded string (Caesar cipher with shift {shift}):\", decoded_string)\n"
   ]
  },
  {
   "cell_type": "code",
   "execution_count": 41,
   "id": "348bbf6b-37bb-4d9b-bf04-28a82f92d878",
   "metadata": {},
   "outputs": [
    {
     "name": "stdin",
     "output_type": "stream",
     "text": [
      "Enter a String :  the sentence we are writing can affect the figure of speech of th person that hearing the voice of the you\n"
     ]
    },
    {
     "name": "stdout",
     "output_type": "stream",
     "text": [
      " the most frequent word in the string is : the\n"
     ]
    }
   ],
   "source": [
    "#take a string as a input\n",
    "String1 = str(input(\"Enter a String : \"))\n",
    "\n",
    "# Split the string into words\n",
    "words = String1.split()\n",
    "\n",
    "# Initialize an empty dictionary to store word frequencies\n",
    "word_frequency = {}\n",
    "\n",
    "# Count the frequency of each word\n",
    "for word in words:\n",
    "    word_frequency[word] = word_frequency.get(word, 0) + 1\n",
    "\n",
    "# Find the most frequent word\n",
    "m_fr_word = max(word_frequency, key=word_frequency.get)\n",
    "\n",
    "print(\" the most frequent word in the string is :\", m_fr_word)\n",
    "\n"
   ]
  },
  {
   "cell_type": "code",
   "execution_count": 43,
   "id": "e22ce930-a97c-4d8b-bf39-8a66078030e4",
   "metadata": {},
   "outputs": [
    {
     "name": "stdin",
     "output_type": "stream",
     "text": [
      "Enter a String :  This is an example sentence. This sentence contains some words. Example words are repeated in this example.\n"
     ]
    },
    {
     "name": "stdout",
     "output_type": "stream",
     "text": [
      "Unique words in the string: {'some', 'words.', 'words', 'are', 'an', 'this', 'in', 'repeated', 'example', 'Example', 'sentence.', 'example.', 'contains', 'is', 'This', 'sentence'}\n"
     ]
    }
   ],
   "source": [
    "#take a string as a input\n",
    "String1 = str(input(\"Enter a String : \"))\n",
    "\n",
    "# Split the string into words\n",
    "words = String1.split()\n",
    "\n",
    "# Use a set to store unique words\n",
    "unique_words = set(words)\n",
    "\n",
    "print(\"Unique words in the string:\", unique_words)\n"
   ]
  },
  {
   "cell_type": "code",
   "execution_count": 45,
   "id": "88030dbb-bf98-4860-9609-4edcdae51106",
   "metadata": {},
   "outputs": [
    {
     "name": "stdin",
     "output_type": "stream",
     "text": [
      "Enter a String :  The holidays are best part of life\n"
     ]
    },
    {
     "name": "stdout",
     "output_type": "stream",
     "text": [
      "Syllable count in the string is: 12\n"
     ]
    }
   ],
   "source": [
    "#take a string as a input\n",
    "String1 = str(input(\"Enter a String : \"))\n",
    "\n",
    "# Count the number of syllables by counting vowels (not accurate for all cases)\n",
    "syllable_count = sum(1 for char in String1.lower() if char in 'aeiouy')\n",
    "\n",
    "print(\"Syllable count in the string is:\", syllable_count)\n"
   ]
  },
  {
   "cell_type": "code",
   "execution_count": 46,
   "id": "a6a0603c-8bb6-45f2-9e12-2856aef62c2b",
   "metadata": {},
   "outputs": [
    {
     "name": "stdin",
     "output_type": "stream",
     "text": [
      "Enter a String :   Hello everyone !! welcome to my show !!\n"
     ]
    },
    {
     "name": "stdout",
     "output_type": "stream",
     "text": [
      "String contains special characters.\n"
     ]
    }
   ],
   "source": [
    "#take a string as a input\n",
    "String1 = str(input(\"Enter a String : \"))\n",
    "\n",
    "\n",
    "# Check if the string contains any special characters\n",
    "s_char = any(not char.isalnum() and not char.isspace() for char in String1)\n",
    "\n",
    "if s_char:\n",
    "    print(\"String contains special characters.\")\n",
    "else:\n",
    "    print(\"string does not contain special characters.\")\n"
   ]
  },
  {
   "cell_type": "code",
   "execution_count": 4,
   "id": "7f0c79de-5f06-4fa5-832d-b6bfe872a45c",
   "metadata": {},
   "outputs": [
    {
     "name": "stdin",
     "output_type": "stream",
     "text": [
      "Enter a String :  the sea is very vast\n",
      "the number of the word :  2\n"
     ]
    },
    {
     "name": "stdout",
     "output_type": "stream",
     "text": [
      "String after removing the 2th word: the is very vast\n"
     ]
    }
   ],
   "source": [
    "#take a string as a input\n",
    "String1 = str(input(\"Enter a String : \"))\n",
    "\n",
    "\n",
    "n = int(input(\"the number of the word : \"))\n",
    "\n",
    "# Split the string into words\n",
    "words = String1.split()\n",
    "\n",
    "# Check if n is a valid position\n",
    "if 1 <= n <= len(words):\n",
    "    # Remove the nth word\n",
    "    del words[n - 1]\n",
    "    \n",
    "    # Join the remaining words back into a string\n",
    "    modified_string = ' '.join(words)\n",
    "    \n",
    "    \n",
    "    print(f\"String after removing the {n}th word:\", modified_string)\n",
    "else:\n",
    "    print(\"Invalid value for n.\")\n"
   ]
  },
  {
   "cell_type": "code",
   "execution_count": 7,
   "id": "dbf58102-8b23-49ea-8169-669f5a2ce316",
   "metadata": {},
   "outputs": [
    {
     "name": "stdin",
     "output_type": "stream",
     "text": [
      "Enter a String :  the is very vast\n",
      "the number of the word :  2\n",
      "Enter a String :  sea\n"
     ]
    },
    {
     "name": "stdout",
     "output_type": "stream",
     "text": [
      "String after inserting 'sea' at the 2th position: the sea is very vast\n"
     ]
    }
   ],
   "source": [
    "#take a string as a input\n",
    "String1 = str(input(\"Enter a String : \"))\n",
    "\n",
    "#Change this to the desired position where you want to insert the word\n",
    "n = int(input(\"the number of the word : \"))\n",
    "\n",
    "word_to_insert = str(input(\"Enter a String : \"))\n",
    "\n",
    "# Split the string into words\n",
    "words = String1.split()\n",
    "\n",
    "# Check if n is a valid position\n",
    "if 1 <= n <= len(words) + 1:\n",
    "    # Insert the word at the nth position\n",
    "    words.insert(n - 1, word_to_insert)\n",
    "    \n",
    "    # Join the modified words back into a string\n",
    "    modified_string = ' '.join(words)\n",
    "    \n",
    "    print(f\"String after inserting '{word_to_insert}' at the {n}th position:\", modified_string)\n",
    "else:\n",
    "    print(\"Invalid value for n.\")\n"
   ]
  },
  {
   "cell_type": "code",
   "execution_count": 8,
   "id": "75e978b6-b124-4711-9f4b-b2e4a5cc58ad",
   "metadata": {},
   "outputs": [
    {
     "name": "stdin",
     "output_type": "stream",
     "text": [
      "Enter a String :  John,Doe,30\\nAlice,Smith,25\\nBob,Johnson,35\n"
     ]
    },
    {
     "name": "stdout",
     "output_type": "stream",
     "text": [
      "the list of lists are :  ['John', 'Doe', '30\\\\nAlice', 'Smith', '25\\\\nBob', 'Johnson', '35']\n"
     ]
    }
   ],
   "source": [
    "csv_string =  str(input(\"Enter a String : \"))\n",
    "\n",
    "# Initialize an empty list to store the result\n",
    "csv_list = []\n",
    "\n",
    "# Split the CSV string by lines\n",
    "rows = csv_string.split('\\n')\n",
    "\n",
    "# Iterate over rows and split by commas to create a list of lists\n",
    "for row in rows:\n",
    "    csv_list.append(row.split(','))\n",
    "\n",
    "for row in csv_list:\n",
    "    print(\"the list of lists are : \",row)\n"
   ]
  }
 ],
 "metadata": {
  "kernelspec": {
   "display_name": "Python 3 (ipykernel)",
   "language": "python",
   "name": "python3"
  },
  "language_info": {
   "codemirror_mode": {
    "name": "ipython",
    "version": 3
   },
   "file_extension": ".py",
   "mimetype": "text/x-python",
   "name": "python",
   "nbconvert_exporter": "python",
   "pygments_lexer": "ipython3",
   "version": "3.10.8"
  }
 },
 "nbformat": 4,
 "nbformat_minor": 5
}
